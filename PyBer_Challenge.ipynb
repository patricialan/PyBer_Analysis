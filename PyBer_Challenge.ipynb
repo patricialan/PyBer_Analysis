{
 "cells": [
  {
   "cell_type": "code",
   "execution_count": 1,
   "metadata": {},
   "outputs": [],
   "source": [
    "# inline charts & graphs\n",
    "%matplotlib inline\n",
    "\n",
    "# dependencies\n",
    "import matplotlib.pyplot as plt\n",
    "import pandas as pd\n",
    "import numpy as np\n",
    "import scipy.stats as sts\n",
    "import matplotlib as mpl\n",
    "\n",
    "# load csv files\n",
    "city_data_to_load = \"Resources/city_data.csv\"\n",
    "ride_data_to_load = \"Resources/ride_data.csv\""
   ]
  },
  {
   "cell_type": "code",
   "execution_count": 2,
   "metadata": {},
   "outputs": [
    {
     "data": {
      "text/html": [
       "<div>\n",
       "<style scoped>\n",
       "    .dataframe tbody tr th:only-of-type {\n",
       "        vertical-align: middle;\n",
       "    }\n",
       "\n",
       "    .dataframe tbody tr th {\n",
       "        vertical-align: top;\n",
       "    }\n",
       "\n",
       "    .dataframe thead th {\n",
       "        text-align: right;\n",
       "    }\n",
       "</style>\n",
       "<table border=\"1\" class=\"dataframe\">\n",
       "  <thead>\n",
       "    <tr style=\"text-align: right;\">\n",
       "      <th></th>\n",
       "      <th>city</th>\n",
       "      <th>driver_count</th>\n",
       "      <th>type</th>\n",
       "    </tr>\n",
       "  </thead>\n",
       "  <tbody>\n",
       "    <tr>\n",
       "      <th>0</th>\n",
       "      <td>Richardfort</td>\n",
       "      <td>38</td>\n",
       "      <td>Urban</td>\n",
       "    </tr>\n",
       "    <tr>\n",
       "      <th>1</th>\n",
       "      <td>Williamsstad</td>\n",
       "      <td>59</td>\n",
       "      <td>Urban</td>\n",
       "    </tr>\n",
       "    <tr>\n",
       "      <th>2</th>\n",
       "      <td>Port Angela</td>\n",
       "      <td>67</td>\n",
       "      <td>Urban</td>\n",
       "    </tr>\n",
       "    <tr>\n",
       "      <th>3</th>\n",
       "      <td>Rodneyfort</td>\n",
       "      <td>34</td>\n",
       "      <td>Urban</td>\n",
       "    </tr>\n",
       "    <tr>\n",
       "      <th>4</th>\n",
       "      <td>West Robert</td>\n",
       "      <td>39</td>\n",
       "      <td>Urban</td>\n",
       "    </tr>\n",
       "  </tbody>\n",
       "</table>\n",
       "</div>"
      ],
      "text/plain": [
       "           city  driver_count   type\n",
       "0   Richardfort            38  Urban\n",
       "1  Williamsstad            59  Urban\n",
       "2   Port Angela            67  Urban\n",
       "3    Rodneyfort            34  Urban\n",
       "4   West Robert            39  Urban"
      ]
     },
     "execution_count": 2,
     "metadata": {},
     "output_type": "execute_result"
    }
   ],
   "source": [
    "# create city df\n",
    "city_data_df = pd.read_csv(city_data_to_load)\n",
    "city_data_df.head()"
   ]
  },
  {
   "cell_type": "code",
   "execution_count": 3,
   "metadata": {},
   "outputs": [
    {
     "data": {
      "text/html": [
       "<div>\n",
       "<style scoped>\n",
       "    .dataframe tbody tr th:only-of-type {\n",
       "        vertical-align: middle;\n",
       "    }\n",
       "\n",
       "    .dataframe tbody tr th {\n",
       "        vertical-align: top;\n",
       "    }\n",
       "\n",
       "    .dataframe thead th {\n",
       "        text-align: right;\n",
       "    }\n",
       "</style>\n",
       "<table border=\"1\" class=\"dataframe\">\n",
       "  <thead>\n",
       "    <tr style=\"text-align: right;\">\n",
       "      <th></th>\n",
       "      <th>city</th>\n",
       "      <th>date</th>\n",
       "      <th>fare</th>\n",
       "      <th>ride_id</th>\n",
       "    </tr>\n",
       "  </thead>\n",
       "  <tbody>\n",
       "    <tr>\n",
       "      <th>0</th>\n",
       "      <td>Lake Jonathanshire</td>\n",
       "      <td>2019-01-14 10:14</td>\n",
       "      <td>13.83</td>\n",
       "      <td>5.740000e+12</td>\n",
       "    </tr>\n",
       "    <tr>\n",
       "      <th>1</th>\n",
       "      <td>South Michelleport</td>\n",
       "      <td>2019-03-04 18:24</td>\n",
       "      <td>30.24</td>\n",
       "      <td>2.340000e+12</td>\n",
       "    </tr>\n",
       "    <tr>\n",
       "      <th>2</th>\n",
       "      <td>Port Samanthamouth</td>\n",
       "      <td>2019-02-24 4:29</td>\n",
       "      <td>33.44</td>\n",
       "      <td>2.010000e+12</td>\n",
       "    </tr>\n",
       "    <tr>\n",
       "      <th>3</th>\n",
       "      <td>Rodneyfort</td>\n",
       "      <td>2019-02-10 23:22</td>\n",
       "      <td>23.44</td>\n",
       "      <td>5.150000e+12</td>\n",
       "    </tr>\n",
       "    <tr>\n",
       "      <th>4</th>\n",
       "      <td>South Jack</td>\n",
       "      <td>2019-03-06 4:28</td>\n",
       "      <td>34.58</td>\n",
       "      <td>3.910000e+12</td>\n",
       "    </tr>\n",
       "  </tbody>\n",
       "</table>\n",
       "</div>"
      ],
      "text/plain": [
       "                 city              date   fare       ride_id\n",
       "0  Lake Jonathanshire  2019-01-14 10:14  13.83  5.740000e+12\n",
       "1  South Michelleport  2019-03-04 18:24  30.24  2.340000e+12\n",
       "2  Port Samanthamouth   2019-02-24 4:29  33.44  2.010000e+12\n",
       "3          Rodneyfort  2019-02-10 23:22  23.44  5.150000e+12\n",
       "4          South Jack   2019-03-06 4:28  34.58  3.910000e+12"
      ]
     },
     "execution_count": 3,
     "metadata": {},
     "output_type": "execute_result"
    }
   ],
   "source": [
    "# create ride df\n",
    "ride_data_df = pd.read_csv(ride_data_to_load)\n",
    "ride_data_df.head()"
   ]
  },
  {
   "cell_type": "code",
   "execution_count": 4,
   "metadata": {},
   "outputs": [
    {
     "data": {
      "text/plain": [
       "city            120\n",
       "driver_count    120\n",
       "type            120\n",
       "dtype: int64"
      ]
     },
     "execution_count": 4,
     "metadata": {},
     "output_type": "execute_result"
    }
   ],
   "source": [
    "# city data: check for null values (count())\n",
    "city_data_df.count()"
   ]
  },
  {
   "cell_type": "code",
   "execution_count": 5,
   "metadata": {},
   "outputs": [
    {
     "data": {
      "text/plain": [
       "city            0\n",
       "driver_count    0\n",
       "type            0\n",
       "dtype: int64"
      ]
     },
     "execution_count": 5,
     "metadata": {},
     "output_type": "execute_result"
    }
   ],
   "source": [
    "# city data: check for null values (isnull().sum())\n",
    "city_data_df.isnull().sum()"
   ]
  },
  {
   "cell_type": "code",
   "execution_count": 6,
   "metadata": {},
   "outputs": [
    {
     "data": {
      "text/plain": [
       "city            object\n",
       "driver_count     int64\n",
       "type            object\n",
       "dtype: object"
      ]
     },
     "execution_count": 6,
     "metadata": {},
     "output_type": "execute_result"
    }
   ],
   "source": [
    "# city data: check data types\n",
    "city_data_df.dtypes"
   ]
  },
  {
   "cell_type": "code",
   "execution_count": 7,
   "metadata": {},
   "outputs": [
    {
     "data": {
      "text/plain": [
       "array(['Urban', 'Suburban', 'Rural'], dtype=object)"
      ]
     },
     "execution_count": 7,
     "metadata": {},
     "output_type": "execute_result"
    }
   ],
   "source": [
    "# Get the unique values of the type of city.\n",
    "city_data_df[\"type\"].unique()"
   ]
  },
  {
   "cell_type": "code",
   "execution_count": 8,
   "metadata": {},
   "outputs": [
    {
     "data": {
      "text/plain": [
       "66"
      ]
     },
     "execution_count": 8,
     "metadata": {},
     "output_type": "execute_result"
    }
   ],
   "source": [
    "# Get the number of data points from the Urban cities.\n",
    "sum(city_data_df[\"type\"]==\"Urban\")"
   ]
  },
  {
   "cell_type": "code",
   "execution_count": 9,
   "metadata": {},
   "outputs": [
    {
     "data": {
      "text/plain": [
       "36"
      ]
     },
     "execution_count": 9,
     "metadata": {},
     "output_type": "execute_result"
    }
   ],
   "source": [
    "# Get the number of data points from the Suburban cities.\n",
    "sum(city_data_df[\"type\"]==\"Suburban\")"
   ]
  },
  {
   "cell_type": "code",
   "execution_count": 10,
   "metadata": {},
   "outputs": [
    {
     "data": {
      "text/plain": [
       "18"
      ]
     },
     "execution_count": 10,
     "metadata": {},
     "output_type": "execute_result"
    }
   ],
   "source": [
    "# Get the number of data points from the Rural cities.\n",
    "sum(city_data_df[\"type\"]==\"Rural\")"
   ]
  },
  {
   "cell_type": "code",
   "execution_count": 11,
   "metadata": {},
   "outputs": [
    {
     "data": {
      "text/plain": [
       "city       2375\n",
       "date       2375\n",
       "fare       2375\n",
       "ride_id    2375\n",
       "dtype: int64"
      ]
     },
     "execution_count": 11,
     "metadata": {},
     "output_type": "execute_result"
    }
   ],
   "source": [
    "# Get the columns and the rows that are not null.\n",
    "ride_data_df.count()"
   ]
  },
  {
   "cell_type": "code",
   "execution_count": 12,
   "metadata": {},
   "outputs": [
    {
     "data": {
      "text/plain": [
       "city       0\n",
       "date       0\n",
       "fare       0\n",
       "ride_id    0\n",
       "dtype: int64"
      ]
     },
     "execution_count": 12,
     "metadata": {},
     "output_type": "execute_result"
    }
   ],
   "source": [
    "# Get the columns and the rows that are not null.\n",
    "ride_data_df.isnull().sum()"
   ]
  },
  {
   "cell_type": "code",
   "execution_count": 13,
   "metadata": {},
   "outputs": [
    {
     "data": {
      "text/plain": [
       "city        object\n",
       "date        object\n",
       "fare       float64\n",
       "ride_id    float64\n",
       "dtype: object"
      ]
     },
     "execution_count": 13,
     "metadata": {},
     "output_type": "execute_result"
    }
   ],
   "source": [
    "# Ride data: check data types\n",
    "ride_data_df.dtypes"
   ]
  },
  {
   "cell_type": "code",
   "execution_count": 14,
   "metadata": {},
   "outputs": [
    {
     "data": {
      "text/html": [
       "<div>\n",
       "<style scoped>\n",
       "    .dataframe tbody tr th:only-of-type {\n",
       "        vertical-align: middle;\n",
       "    }\n",
       "\n",
       "    .dataframe tbody tr th {\n",
       "        vertical-align: top;\n",
       "    }\n",
       "\n",
       "    .dataframe thead th {\n",
       "        text-align: right;\n",
       "    }\n",
       "</style>\n",
       "<table border=\"1\" class=\"dataframe\">\n",
       "  <thead>\n",
       "    <tr style=\"text-align: right;\">\n",
       "      <th></th>\n",
       "      <th>city</th>\n",
       "      <th>date</th>\n",
       "      <th>fare</th>\n",
       "      <th>ride_id</th>\n",
       "      <th>driver_count</th>\n",
       "      <th>type</th>\n",
       "    </tr>\n",
       "  </thead>\n",
       "  <tbody>\n",
       "    <tr>\n",
       "      <th>0</th>\n",
       "      <td>Lake Jonathanshire</td>\n",
       "      <td>2019-01-14 10:14</td>\n",
       "      <td>13.83</td>\n",
       "      <td>5.740000e+12</td>\n",
       "      <td>5</td>\n",
       "      <td>Urban</td>\n",
       "    </tr>\n",
       "    <tr>\n",
       "      <th>1</th>\n",
       "      <td>South Michelleport</td>\n",
       "      <td>2019-03-04 18:24</td>\n",
       "      <td>30.24</td>\n",
       "      <td>2.340000e+12</td>\n",
       "      <td>72</td>\n",
       "      <td>Urban</td>\n",
       "    </tr>\n",
       "    <tr>\n",
       "      <th>2</th>\n",
       "      <td>Port Samanthamouth</td>\n",
       "      <td>2019-02-24 4:29</td>\n",
       "      <td>33.44</td>\n",
       "      <td>2.010000e+12</td>\n",
       "      <td>57</td>\n",
       "      <td>Urban</td>\n",
       "    </tr>\n",
       "    <tr>\n",
       "      <th>3</th>\n",
       "      <td>Rodneyfort</td>\n",
       "      <td>2019-02-10 23:22</td>\n",
       "      <td>23.44</td>\n",
       "      <td>5.150000e+12</td>\n",
       "      <td>34</td>\n",
       "      <td>Urban</td>\n",
       "    </tr>\n",
       "    <tr>\n",
       "      <th>4</th>\n",
       "      <td>South Jack</td>\n",
       "      <td>2019-03-06 4:28</td>\n",
       "      <td>34.58</td>\n",
       "      <td>3.910000e+12</td>\n",
       "      <td>46</td>\n",
       "      <td>Urban</td>\n",
       "    </tr>\n",
       "  </tbody>\n",
       "</table>\n",
       "</div>"
      ],
      "text/plain": [
       "                 city              date   fare       ride_id  driver_count  \\\n",
       "0  Lake Jonathanshire  2019-01-14 10:14  13.83  5.740000e+12             5   \n",
       "1  South Michelleport  2019-03-04 18:24  30.24  2.340000e+12            72   \n",
       "2  Port Samanthamouth   2019-02-24 4:29  33.44  2.010000e+12            57   \n",
       "3          Rodneyfort  2019-02-10 23:22  23.44  5.150000e+12            34   \n",
       "4          South Jack   2019-03-06 4:28  34.58  3.910000e+12            46   \n",
       "\n",
       "    type  \n",
       "0  Urban  \n",
       "1  Urban  \n",
       "2  Urban  \n",
       "3  Urban  \n",
       "4  Urban  "
      ]
     },
     "execution_count": 14,
     "metadata": {},
     "output_type": "execute_result"
    }
   ],
   "source": [
    "# Combine the data into a single dataset\n",
    "pyber_data_df = pd.merge(ride_data_df, city_data_df, how=\"left\", on=[\"city\", \"city\"])\n",
    "\n",
    "# Display the DataFrame\n",
    "pyber_data_df.head()"
   ]
  },
  {
   "cell_type": "code",
   "execution_count": 15,
   "metadata": {},
   "outputs": [
    {
     "data": {
      "text/html": [
       "<div>\n",
       "<style scoped>\n",
       "    .dataframe tbody tr th:only-of-type {\n",
       "        vertical-align: middle;\n",
       "    }\n",
       "\n",
       "    .dataframe tbody tr th {\n",
       "        vertical-align: top;\n",
       "    }\n",
       "\n",
       "    .dataframe thead th {\n",
       "        text-align: right;\n",
       "    }\n",
       "</style>\n",
       "<table border=\"1\" class=\"dataframe\">\n",
       "  <thead>\n",
       "    <tr style=\"text-align: right;\">\n",
       "      <th></th>\n",
       "      <th>city</th>\n",
       "      <th>date</th>\n",
       "      <th>fare</th>\n",
       "      <th>ride_id</th>\n",
       "      <th>driver_count</th>\n",
       "      <th>type</th>\n",
       "    </tr>\n",
       "  </thead>\n",
       "  <tbody>\n",
       "    <tr>\n",
       "      <th>0</th>\n",
       "      <td>Lake Jonathanshire</td>\n",
       "      <td>2019-01-14 10:14</td>\n",
       "      <td>13.83</td>\n",
       "      <td>5.740000e+12</td>\n",
       "      <td>5</td>\n",
       "      <td>Urban</td>\n",
       "    </tr>\n",
       "    <tr>\n",
       "      <th>1</th>\n",
       "      <td>South Michelleport</td>\n",
       "      <td>2019-03-04 18:24</td>\n",
       "      <td>30.24</td>\n",
       "      <td>2.340000e+12</td>\n",
       "      <td>72</td>\n",
       "      <td>Urban</td>\n",
       "    </tr>\n",
       "    <tr>\n",
       "      <th>2</th>\n",
       "      <td>Port Samanthamouth</td>\n",
       "      <td>2019-02-24 4:29</td>\n",
       "      <td>33.44</td>\n",
       "      <td>2.010000e+12</td>\n",
       "      <td>57</td>\n",
       "      <td>Urban</td>\n",
       "    </tr>\n",
       "    <tr>\n",
       "      <th>3</th>\n",
       "      <td>Rodneyfort</td>\n",
       "      <td>2019-02-10 23:22</td>\n",
       "      <td>23.44</td>\n",
       "      <td>5.150000e+12</td>\n",
       "      <td>34</td>\n",
       "      <td>Urban</td>\n",
       "    </tr>\n",
       "    <tr>\n",
       "      <th>4</th>\n",
       "      <td>South Jack</td>\n",
       "      <td>2019-03-06 4:28</td>\n",
       "      <td>34.58</td>\n",
       "      <td>3.910000e+12</td>\n",
       "      <td>46</td>\n",
       "      <td>Urban</td>\n",
       "    </tr>\n",
       "  </tbody>\n",
       "</table>\n",
       "</div>"
      ],
      "text/plain": [
       "                 city              date   fare       ride_id  driver_count  \\\n",
       "0  Lake Jonathanshire  2019-01-14 10:14  13.83  5.740000e+12             5   \n",
       "1  South Michelleport  2019-03-04 18:24  30.24  2.340000e+12            72   \n",
       "2  Port Samanthamouth   2019-02-24 4:29  33.44  2.010000e+12            57   \n",
       "3          Rodneyfort  2019-02-10 23:22  23.44  5.150000e+12            34   \n",
       "4          South Jack   2019-03-06 4:28  34.58  3.910000e+12            46   \n",
       "\n",
       "    type  \n",
       "0  Urban  \n",
       "1  Urban  \n",
       "2  Urban  \n",
       "3  Urban  \n",
       "4  Urban  "
      ]
     },
     "execution_count": 15,
     "metadata": {},
     "output_type": "execute_result"
    }
   ],
   "source": [
    "# Create the Urban city DataFrame.\n",
    "urban_cities_df = pyber_data_df[pyber_data_df[\"type\"] == \"Urban\"]\n",
    "urban_cities_df.head()"
   ]
  },
  {
   "cell_type": "code",
   "execution_count": 16,
   "metadata": {},
   "outputs": [
    {
     "data": {
      "text/html": [
       "<div>\n",
       "<style scoped>\n",
       "    .dataframe tbody tr th:only-of-type {\n",
       "        vertical-align: middle;\n",
       "    }\n",
       "\n",
       "    .dataframe tbody tr th {\n",
       "        vertical-align: top;\n",
       "    }\n",
       "\n",
       "    .dataframe thead th {\n",
       "        text-align: right;\n",
       "    }\n",
       "</style>\n",
       "<table border=\"1\" class=\"dataframe\">\n",
       "  <thead>\n",
       "    <tr style=\"text-align: right;\">\n",
       "      <th></th>\n",
       "      <th>city</th>\n",
       "      <th>date</th>\n",
       "      <th>fare</th>\n",
       "      <th>ride_id</th>\n",
       "      <th>driver_count</th>\n",
       "      <th>type</th>\n",
       "    </tr>\n",
       "  </thead>\n",
       "  <tbody>\n",
       "    <tr>\n",
       "      <th>1625</th>\n",
       "      <td>Barronchester</td>\n",
       "      <td>2019-01-27 3:08</td>\n",
       "      <td>27.79</td>\n",
       "      <td>6.650000e+12</td>\n",
       "      <td>11</td>\n",
       "      <td>Suburban</td>\n",
       "    </tr>\n",
       "    <tr>\n",
       "      <th>1626</th>\n",
       "      <td>East Kentstad</td>\n",
       "      <td>2019-04-07 19:44</td>\n",
       "      <td>18.75</td>\n",
       "      <td>6.580000e+12</td>\n",
       "      <td>20</td>\n",
       "      <td>Suburban</td>\n",
       "    </tr>\n",
       "    <tr>\n",
       "      <th>1627</th>\n",
       "      <td>Lake Omar</td>\n",
       "      <td>2019-01-17 21:33</td>\n",
       "      <td>21.71</td>\n",
       "      <td>9.670000e+11</td>\n",
       "      <td>22</td>\n",
       "      <td>Suburban</td>\n",
       "    </tr>\n",
       "    <tr>\n",
       "      <th>1628</th>\n",
       "      <td>Myersshire</td>\n",
       "      <td>2019-02-27 17:38</td>\n",
       "      <td>17.10</td>\n",
       "      <td>5.710000e+12</td>\n",
       "      <td>19</td>\n",
       "      <td>Suburban</td>\n",
       "    </tr>\n",
       "    <tr>\n",
       "      <th>1629</th>\n",
       "      <td>West Hannah</td>\n",
       "      <td>2019-04-19 1:06</td>\n",
       "      <td>37.78</td>\n",
       "      <td>2.270000e+12</td>\n",
       "      <td>12</td>\n",
       "      <td>Suburban</td>\n",
       "    </tr>\n",
       "  </tbody>\n",
       "</table>\n",
       "</div>"
      ],
      "text/plain": [
       "               city              date   fare       ride_id  driver_count  \\\n",
       "1625  Barronchester   2019-01-27 3:08  27.79  6.650000e+12            11   \n",
       "1626  East Kentstad  2019-04-07 19:44  18.75  6.580000e+12            20   \n",
       "1627      Lake Omar  2019-01-17 21:33  21.71  9.670000e+11            22   \n",
       "1628     Myersshire  2019-02-27 17:38  17.10  5.710000e+12            19   \n",
       "1629    West Hannah   2019-04-19 1:06  37.78  2.270000e+12            12   \n",
       "\n",
       "          type  \n",
       "1625  Suburban  \n",
       "1626  Suburban  \n",
       "1627  Suburban  \n",
       "1628  Suburban  \n",
       "1629  Suburban  "
      ]
     },
     "execution_count": 16,
     "metadata": {},
     "output_type": "execute_result"
    }
   ],
   "source": [
    "# Create the Suburban city DataFrame.\n",
    "suburban_cities_df = pyber_data_df[pyber_data_df[\"type\"] == \"Suburban\"]\n",
    "suburban_cities_df.head()"
   ]
  },
  {
   "cell_type": "code",
   "execution_count": 17,
   "metadata": {},
   "outputs": [
    {
     "data": {
      "text/html": [
       "<div>\n",
       "<style scoped>\n",
       "    .dataframe tbody tr th:only-of-type {\n",
       "        vertical-align: middle;\n",
       "    }\n",
       "\n",
       "    .dataframe tbody tr th {\n",
       "        vertical-align: top;\n",
       "    }\n",
       "\n",
       "    .dataframe thead th {\n",
       "        text-align: right;\n",
       "    }\n",
       "</style>\n",
       "<table border=\"1\" class=\"dataframe\">\n",
       "  <thead>\n",
       "    <tr style=\"text-align: right;\">\n",
       "      <th></th>\n",
       "      <th>city</th>\n",
       "      <th>date</th>\n",
       "      <th>fare</th>\n",
       "      <th>ride_id</th>\n",
       "      <th>driver_count</th>\n",
       "      <th>type</th>\n",
       "    </tr>\n",
       "  </thead>\n",
       "  <tbody>\n",
       "    <tr>\n",
       "      <th>2250</th>\n",
       "      <td>Randallchester</td>\n",
       "      <td>2019-04-13 11:13</td>\n",
       "      <td>43.22</td>\n",
       "      <td>1.080000e+12</td>\n",
       "      <td>9</td>\n",
       "      <td>Rural</td>\n",
       "    </tr>\n",
       "    <tr>\n",
       "      <th>2251</th>\n",
       "      <td>North Holly</td>\n",
       "      <td>2019-02-02 14:54</td>\n",
       "      <td>12.42</td>\n",
       "      <td>1.990000e+12</td>\n",
       "      <td>8</td>\n",
       "      <td>Rural</td>\n",
       "    </tr>\n",
       "    <tr>\n",
       "      <th>2252</th>\n",
       "      <td>Michaelberg</td>\n",
       "      <td>2019-03-27 18:27</td>\n",
       "      <td>54.85</td>\n",
       "      <td>4.420000e+12</td>\n",
       "      <td>6</td>\n",
       "      <td>Rural</td>\n",
       "    </tr>\n",
       "    <tr>\n",
       "      <th>2253</th>\n",
       "      <td>Lake Latoyabury</td>\n",
       "      <td>2019-02-23 21:12</td>\n",
       "      <td>47.90</td>\n",
       "      <td>3.270000e+12</td>\n",
       "      <td>2</td>\n",
       "      <td>Rural</td>\n",
       "    </tr>\n",
       "    <tr>\n",
       "      <th>2254</th>\n",
       "      <td>Lake Latoyabury</td>\n",
       "      <td>2019-05-06 8:57</td>\n",
       "      <td>51.80</td>\n",
       "      <td>4.020000e+12</td>\n",
       "      <td>2</td>\n",
       "      <td>Rural</td>\n",
       "    </tr>\n",
       "  </tbody>\n",
       "</table>\n",
       "</div>"
      ],
      "text/plain": [
       "                 city              date   fare       ride_id  driver_count  \\\n",
       "2250   Randallchester  2019-04-13 11:13  43.22  1.080000e+12             9   \n",
       "2251      North Holly  2019-02-02 14:54  12.42  1.990000e+12             8   \n",
       "2252      Michaelberg  2019-03-27 18:27  54.85  4.420000e+12             6   \n",
       "2253  Lake Latoyabury  2019-02-23 21:12  47.90  3.270000e+12             2   \n",
       "2254  Lake Latoyabury   2019-05-06 8:57  51.80  4.020000e+12             2   \n",
       "\n",
       "       type  \n",
       "2250  Rural  \n",
       "2251  Rural  \n",
       "2252  Rural  \n",
       "2253  Rural  \n",
       "2254  Rural  "
      ]
     },
     "execution_count": 17,
     "metadata": {},
     "output_type": "execute_result"
    }
   ],
   "source": [
    "# Create the Rural city DataFrame.\n",
    "rural_cities_df = pyber_data_df[pyber_data_df[\"type\"] == \"Rural\"]\n",
    "rural_cities_df.head()"
   ]
  },
  {
   "cell_type": "code",
   "execution_count": 18,
   "metadata": {},
   "outputs": [
    {
     "data": {
      "text/plain": [
       "city\n",
       "Amandaburgh        18\n",
       "Barajasview        22\n",
       "Carriemouth        27\n",
       "Christopherfurt    27\n",
       "Deanville          19\n",
       "Name: ride_id, dtype: int64"
      ]
     },
     "execution_count": 18,
     "metadata": {},
     "output_type": "execute_result"
    }
   ],
   "source": [
    "# Get the number of rides for urban cities.\n",
    "urban_ride_count = urban_cities_df.groupby([\"city\"]).count()[\"ride_id\"]\n",
    "urban_ride_count.head()"
   ]
  },
  {
   "cell_type": "code",
   "execution_count": 19,
   "metadata": {},
   "outputs": [],
   "source": [
    "# Get the number of rides for suburban & rural cities.\n",
    "suburban_ride_count = suburban_cities_df.groupby([\"city\"]).count()[\"ride_id\"]\n",
    "rural_ride_count = rural_cities_df.groupby([\"city\"]).count()[\"ride_id\"]"
   ]
  },
  {
   "cell_type": "code",
   "execution_count": 20,
   "metadata": {},
   "outputs": [
    {
     "data": {
      "text/plain": [
       "city\n",
       "Amandaburgh        24.641667\n",
       "Barajasview        25.332273\n",
       "Carriemouth        28.314444\n",
       "Christopherfurt    24.501852\n",
       "Deanville          25.842632\n",
       "Name: fare, dtype: float64"
      ]
     },
     "execution_count": 20,
     "metadata": {},
     "output_type": "execute_result"
    }
   ],
   "source": [
    "# Get average fare for each city in the urban cities.\n",
    "urban_avg_fare = urban_cities_df.groupby([\"city\"]).mean()[\"fare\"]\n",
    "urban_avg_fare.head()"
   ]
  },
  {
   "cell_type": "code",
   "execution_count": 21,
   "metadata": {},
   "outputs": [],
   "source": [
    "# Get average fare for each city in the suburban & rural cities.\n",
    "suburban_avg_fare = suburban_cities_df.groupby([\"city\"]).mean()[\"fare\"]\n",
    "rural_avg_fare = rural_cities_df.groupby([\"city\"]).mean()[\"fare\"]"
   ]
  },
  {
   "cell_type": "code",
   "execution_count": 22,
   "metadata": {},
   "outputs": [
    {
     "data": {
      "text/plain": [
       "city\n",
       "Amandaburgh        12\n",
       "Barajasview        26\n",
       "Carriemouth        52\n",
       "Christopherfurt    41\n",
       "Deanville          49\n",
       "Name: driver_count, dtype: int64"
      ]
     },
     "execution_count": 22,
     "metadata": {},
     "output_type": "execute_result"
    }
   ],
   "source": [
    "# Get the average number of drivers for each urban city.\n",
    "urban_driver_count = urban_cities_df.groupby([\"city\"]).mean()[\"driver_count\"]\n",
    "urban_driver_count.head()"
   ]
  },
  {
   "cell_type": "code",
   "execution_count": 23,
   "metadata": {},
   "outputs": [],
   "source": [
    "# Get the average number of drivers for each suburban & rural city.\n",
    "suburban_driver_count = suburban_cities_df.groupby([\"city\"]).mean()[\"driver_count\"]\n",
    "rural_driver_count = rural_cities_df.groupby([\"city\"]).mean()[\"driver_count\"]"
   ]
  },
  {
   "cell_type": "code",
   "execution_count": 24,
   "metadata": {},
   "outputs": [
    {
     "data": {
      "text/plain": [
       "<matplotlib.legend.Legend at 0x1a22d91b50>"
      ]
     },
     "execution_count": 24,
     "metadata": {},
     "output_type": "execute_result"
    },
    {
     "data": {
      "image/png": "[encoded data removed]",
      "text/plain": [
       "<Figure size 432x288 with 1 Axes>"
      ]
     },
     "metadata": {
      "needs_background": "light"
     },
     "output_type": "display_data"
    }
   ],
   "source": [
    "# Build the scatter plots for urban cities.\n",
    "plt.scatter(urban_ride_count, \n",
    "            urban_avg_fare, \n",
    "            s=urban_driver_count*10, \n",
    "            c=\"coral\", \n",
    "            edgecolor=\"black\", \n",
    "            linewidths=1, \n",
    "            alpha=0.8, \n",
    "            label=\"Urban\")\n",
    "\n",
    "# Formatting\n",
    "plt.title(\"PyBer Ride-Sharing Data (2019)\")\n",
    "plt.ylabel(\"Average Fare ($)\")\n",
    "plt.xlabel(\"Total Number of Rides (Per City)\")\n",
    "plt.grid(True)\n",
    "plt.legend()"
   ]
  },
  {
   "cell_type": "code",
   "execution_count": 25,
   "metadata": {},
   "outputs": [
    {
     "data": {
      "text/plain": [
       "<matplotlib.legend.Legend at 0x1a22e2de10>"
      ]
     },
     "execution_count": 25,
     "metadata": {},
     "output_type": "execute_result"
    },
    {
     "data": {
      "image/png": "[encoded data removed]",
      "text/plain": [
       "<Figure size 432x288 with 1 Axes>"
      ]
     },
     "metadata": {
      "needs_background": "light"
     },
     "output_type": "display_data"
    }
   ],
   "source": [
    "# Build the scatter plots for suburban cities.\n",
    "plt.scatter(suburban_ride_count, \n",
    "            suburban_avg_fare, \n",
    "            s=suburban_driver_count*10, \n",
    "            c=\"skyblue\", \n",
    "            edgecolor=\"black\", \n",
    "            linewidths=1, \n",
    "            alpha=0.8, \n",
    "            label=\"Suburban\")\n",
    "\n",
    "# Formatting\n",
    "plt.title(\"PyBer Ride-Sharing Data (2019)\")\n",
    "plt.ylabel(\"Average Fare ($)\")\n",
    "plt.xlabel(\"Total Number of Rides (Per City)\")\n",
    "plt.grid(True)\n",
    "plt.legend()"
   ]
  },
  {
   "cell_type": "code",
   "execution_count": 26,
   "metadata": {},
   "outputs": [
    {
     "data": {
      "text/plain": [
       "<matplotlib.legend.Legend at 0x1a22fa1990>"
      ]
     },
     "execution_count": 26,
     "metadata": {},
     "output_type": "execute_result"
    },
    {
     "data": {
      "image/png": "[encoded data removed]",
      "text/plain": [
       "<Figure size 432x288 with 1 Axes>"
      ]
     },
     "metadata": {
      "needs_background": "light"
     },
     "output_type": "display_data"
    }
   ],
   "source": [
    "# Build the scatter plots for rural cities.\n",
    "plt.scatter(rural_ride_count, \n",
    "            rural_avg_fare, \n",
    "            s=rural_driver_count*10, \n",
    "            c=\"gold\", \n",
    "            edgecolor=\"black\", \n",
    "            linewidths=1, \n",
    "            alpha=0.8, \n",
    "            label=\"Rural\")\n",
    "\n",
    "# Formatting\n",
    "plt.title(\"PyBer Ride-Sharing Data (2019)\")\n",
    "plt.ylabel(\"Average Fare ($)\")\n",
    "plt.xlabel(\"Total Number of Rides (Per City)\")\n",
    "plt.grid(True)\n",
    "plt.legend()"
   ]
  },
  {
   "cell_type": "code",
   "execution_count": 27,
   "metadata": {},
   "outputs": [
    {
     "data": {
      "image/png": "[encoded data removed]",
      "text/plain": [
       "<Figure size 720x432 with 1 Axes>"
      ]
     },
     "metadata": {
      "needs_background": "light"
     },
     "output_type": "display_data"
    }
   ],
   "source": [
    "# Combine scatter plots for each type of city\n",
    "# Enlarge figure\n",
    "plt.subplots(figsize=(10,6))\n",
    "\n",
    "# Urban\n",
    "plt.scatter(urban_ride_count, \n",
    "            urban_avg_fare, \n",
    "            s=urban_driver_count*10, \n",
    "            c=\"coral\", \n",
    "            edgecolor=\"black\", \n",
    "            linewidths=1, \n",
    "            alpha=0.8, \n",
    "            label=\"Urban\")\n",
    "\n",
    "# Suburban\n",
    "plt.scatter(suburban_ride_count, \n",
    "            suburban_avg_fare, \n",
    "            s=suburban_driver_count*10, \n",
    "            c=\"skyblue\", \n",
    "            edgecolor=\"black\", \n",
    "            linewidths=1, \n",
    "            alpha=0.8, \n",
    "            label=\"Suburban\")\n",
    "\n",
    "# Rural\n",
    "plt.scatter(rural_ride_count, \n",
    "            rural_avg_fare, \n",
    "            s=rural_driver_count*10, \n",
    "            c=\"gold\", \n",
    "            edgecolor=\"black\", \n",
    "            linewidths=1, \n",
    "            alpha=0.8, \n",
    "            label=\"Rural\")\n",
    "\n",
    "# Graph properties\n",
    "plt.title(\"PyBer Ride-Sharing Data (2019)\", fontsize=20)\n",
    "plt.ylabel(\"Average Fare ($)\", fontsize=12)\n",
    "plt.xlabel(\"Total Number of Rides (Per City)\", fontsize=12)\n",
    "plt.grid(True)\n",
    "\n",
    "# Legend\n",
    "lgnd = plt.legend(fontsize=\"12\", mode=\"Expanded\",\n",
    "         scatterpoints=1, loc=\"best\", title=\"City Types\")\n",
    "lgnd.legendHandles[0]._sizes = [75]\n",
    "lgnd.legendHandles[1]._sizes = [75]\n",
    "lgnd.legendHandles[2]._sizes = [75]\n",
    "lgnd.get_title().set_fontsize(12)\n",
    "\n",
    "# Text label about circle size\n",
    "plt.text(42, 35, \"Note:\\nCircle size correlates\\nwith driver count per city.\", fontsize=\"12\")\n",
    "\n",
    "# Save the figure\n",
    "plt.savefig(\"Analysis/Fig1.png\", bbox_inches=\"tight\")\n",
    "\n",
    "# Show plot\n",
    "plt.show()"
   ]
  },
  {
   "cell_type": "code",
   "execution_count": 28,
   "metadata": {},
   "outputs": [
    {
     "data": {
      "text/html": [
       "<div>\n",
       "<style scoped>\n",
       "    .dataframe tbody tr th:only-of-type {\n",
       "        vertical-align: middle;\n",
       "    }\n",
       "\n",
       "    .dataframe tbody tr th {\n",
       "        vertical-align: top;\n",
       "    }\n",
       "\n",
       "    .dataframe thead th {\n",
       "        text-align: right;\n",
       "    }\n",
       "</style>\n",
       "<table border=\"1\" class=\"dataframe\">\n",
       "  <thead>\n",
       "    <tr style=\"text-align: right;\">\n",
       "      <th></th>\n",
       "      <th>fare</th>\n",
       "      <th>ride_id</th>\n",
       "      <th>driver_count</th>\n",
       "    </tr>\n",
       "  </thead>\n",
       "  <tbody>\n",
       "    <tr>\n",
       "      <th>count</th>\n",
       "      <td>1625.000000</td>\n",
       "      <td>1.625000e+03</td>\n",
       "      <td>1625.000000</td>\n",
       "    </tr>\n",
       "    <tr>\n",
       "      <th>mean</th>\n",
       "      <td>24.525772</td>\n",
       "      <td>4.873485e+12</td>\n",
       "      <td>36.678154</td>\n",
       "    </tr>\n",
       "    <tr>\n",
       "      <th>std</th>\n",
       "      <td>11.738649</td>\n",
       "      <td>2.907463e+12</td>\n",
       "      <td>20.075545</td>\n",
       "    </tr>\n",
       "    <tr>\n",
       "      <th>min</th>\n",
       "      <td>4.050000</td>\n",
       "      <td>1.458810e+10</td>\n",
       "      <td>3.000000</td>\n",
       "    </tr>\n",
       "    <tr>\n",
       "      <th>25%</th>\n",
       "      <td>14.550000</td>\n",
       "      <td>2.400000e+12</td>\n",
       "      <td>22.000000</td>\n",
       "    </tr>\n",
       "    <tr>\n",
       "      <th>50%</th>\n",
       "      <td>24.640000</td>\n",
       "      <td>4.710000e+12</td>\n",
       "      <td>37.000000</td>\n",
       "    </tr>\n",
       "    <tr>\n",
       "      <th>75%</th>\n",
       "      <td>34.580000</td>\n",
       "      <td>7.450000e+12</td>\n",
       "      <td>52.000000</td>\n",
       "    </tr>\n",
       "    <tr>\n",
       "      <th>max</th>\n",
       "      <td>44.970000</td>\n",
       "      <td>9.990000e+12</td>\n",
       "      <td>73.000000</td>\n",
       "    </tr>\n",
       "  </tbody>\n",
       "</table>\n",
       "</div>"
      ],
      "text/plain": [
       "              fare       ride_id  driver_count\n",
       "count  1625.000000  1.625000e+03   1625.000000\n",
       "mean     24.525772  4.873485e+12     36.678154\n",
       "std      11.738649  2.907463e+12     20.075545\n",
       "min       4.050000  1.458810e+10      3.000000\n",
       "25%      14.550000  2.400000e+12     22.000000\n",
       "50%      24.640000  4.710000e+12     37.000000\n",
       "75%      34.580000  7.450000e+12     52.000000\n",
       "max      44.970000  9.990000e+12     73.000000"
      ]
     },
     "execution_count": 28,
     "metadata": {},
     "output_type": "execute_result"
    }
   ],
   "source": [
    "# urban cities: summary stats\n",
    "urban_cities_df.describe()"
   ]
  },
  {
   "cell_type": "code",
   "execution_count": 29,
   "metadata": {},
   "outputs": [
    {
     "data": {
      "text/html": [
       "<div>\n",
       "<style scoped>\n",
       "    .dataframe tbody tr th:only-of-type {\n",
       "        vertical-align: middle;\n",
       "    }\n",
       "\n",
       "    .dataframe tbody tr th {\n",
       "        vertical-align: top;\n",
       "    }\n",
       "\n",
       "    .dataframe thead th {\n",
       "        text-align: right;\n",
       "    }\n",
       "</style>\n",
       "<table border=\"1\" class=\"dataframe\">\n",
       "  <thead>\n",
       "    <tr style=\"text-align: right;\">\n",
       "      <th></th>\n",
       "      <th>fare</th>\n",
       "      <th>ride_id</th>\n",
       "      <th>driver_count</th>\n",
       "    </tr>\n",
       "  </thead>\n",
       "  <tbody>\n",
       "    <tr>\n",
       "      <th>count</th>\n",
       "      <td>625.000000</td>\n",
       "      <td>6.250000e+02</td>\n",
       "      <td>625.000000</td>\n",
       "    </tr>\n",
       "    <tr>\n",
       "      <th>mean</th>\n",
       "      <td>30.970128</td>\n",
       "      <td>4.970885e+12</td>\n",
       "      <td>13.712000</td>\n",
       "    </tr>\n",
       "    <tr>\n",
       "      <th>std</th>\n",
       "      <td>10.677508</td>\n",
       "      <td>2.912444e+12</td>\n",
       "      <td>8.042372</td>\n",
       "    </tr>\n",
       "    <tr>\n",
       "      <th>min</th>\n",
       "      <td>12.050000</td>\n",
       "      <td>3.218337e+08</td>\n",
       "      <td>1.000000</td>\n",
       "    </tr>\n",
       "    <tr>\n",
       "      <th>25%</th>\n",
       "      <td>21.970000</td>\n",
       "      <td>2.360000e+12</td>\n",
       "      <td>5.000000</td>\n",
       "    </tr>\n",
       "    <tr>\n",
       "      <th>50%</th>\n",
       "      <td>30.750000</td>\n",
       "      <td>5.050000e+12</td>\n",
       "      <td>16.000000</td>\n",
       "    </tr>\n",
       "    <tr>\n",
       "      <th>75%</th>\n",
       "      <td>39.830000</td>\n",
       "      <td>7.550000e+12</td>\n",
       "      <td>21.000000</td>\n",
       "    </tr>\n",
       "    <tr>\n",
       "      <th>max</th>\n",
       "      <td>49.960000</td>\n",
       "      <td>9.920000e+12</td>\n",
       "      <td>25.000000</td>\n",
       "    </tr>\n",
       "  </tbody>\n",
       "</table>\n",
       "</div>"
      ],
      "text/plain": [
       "             fare       ride_id  driver_count\n",
       "count  625.000000  6.250000e+02    625.000000\n",
       "mean    30.970128  4.970885e+12     13.712000\n",
       "std     10.677508  2.912444e+12      8.042372\n",
       "min     12.050000  3.218337e+08      1.000000\n",
       "25%     21.970000  2.360000e+12      5.000000\n",
       "50%     30.750000  5.050000e+12     16.000000\n",
       "75%     39.830000  7.550000e+12     21.000000\n",
       "max     49.960000  9.920000e+12     25.000000"
      ]
     },
     "execution_count": 29,
     "metadata": {},
     "output_type": "execute_result"
    }
   ],
   "source": [
    "# suburban cities: summary stats\n",
    "suburban_cities_df.describe()"
   ]
  },
  {
   "cell_type": "code",
   "execution_count": 30,
   "metadata": {},
   "outputs": [
    {
     "data": {
      "text/html": [
       "<div>\n",
       "<style scoped>\n",
       "    .dataframe tbody tr th:only-of-type {\n",
       "        vertical-align: middle;\n",
       "    }\n",
       "\n",
       "    .dataframe tbody tr th {\n",
       "        vertical-align: top;\n",
       "    }\n",
       "\n",
       "    .dataframe thead th {\n",
       "        text-align: right;\n",
       "    }\n",
       "</style>\n",
       "<table border=\"1\" class=\"dataframe\">\n",
       "  <thead>\n",
       "    <tr style=\"text-align: right;\">\n",
       "      <th></th>\n",
       "      <th>fare</th>\n",
       "      <th>ride_id</th>\n",
       "      <th>driver_count</th>\n",
       "    </tr>\n",
       "  </thead>\n",
       "  <tbody>\n",
       "    <tr>\n",
       "      <th>count</th>\n",
       "      <td>125.000000</td>\n",
       "      <td>1.250000e+02</td>\n",
       "      <td>125.000000</td>\n",
       "    </tr>\n",
       "    <tr>\n",
       "      <th>mean</th>\n",
       "      <td>34.623440</td>\n",
       "      <td>4.648063e+12</td>\n",
       "      <td>4.296000</td>\n",
       "    </tr>\n",
       "    <tr>\n",
       "      <th>std</th>\n",
       "      <td>14.558046</td>\n",
       "      <td>2.887934e+12</td>\n",
       "      <td>2.691156</td>\n",
       "    </tr>\n",
       "    <tr>\n",
       "      <th>min</th>\n",
       "      <td>10.110000</td>\n",
       "      <td>2.684873e+10</td>\n",
       "      <td>1.000000</td>\n",
       "    </tr>\n",
       "    <tr>\n",
       "      <th>25%</th>\n",
       "      <td>19.900000</td>\n",
       "      <td>2.280000e+12</td>\n",
       "      <td>1.000000</td>\n",
       "    </tr>\n",
       "    <tr>\n",
       "      <th>50%</th>\n",
       "      <td>37.050000</td>\n",
       "      <td>4.020000e+12</td>\n",
       "      <td>4.000000</td>\n",
       "    </tr>\n",
       "    <tr>\n",
       "      <th>75%</th>\n",
       "      <td>47.070000</td>\n",
       "      <td>7.120000e+12</td>\n",
       "      <td>7.000000</td>\n",
       "    </tr>\n",
       "    <tr>\n",
       "      <th>max</th>\n",
       "      <td>58.550000</td>\n",
       "      <td>9.990000e+12</td>\n",
       "      <td>9.000000</td>\n",
       "    </tr>\n",
       "  </tbody>\n",
       "</table>\n",
       "</div>"
      ],
      "text/plain": [
       "             fare       ride_id  driver_count\n",
       "count  125.000000  1.250000e+02    125.000000\n",
       "mean    34.623440  4.648063e+12      4.296000\n",
       "std     14.558046  2.887934e+12      2.691156\n",
       "min     10.110000  2.684873e+10      1.000000\n",
       "25%     19.900000  2.280000e+12      1.000000\n",
       "50%     37.050000  4.020000e+12      4.000000\n",
       "75%     47.070000  7.120000e+12      7.000000\n",
       "max     58.550000  9.990000e+12      9.000000"
      ]
     },
     "execution_count": 30,
     "metadata": {},
     "output_type": "execute_result"
    }
   ],
   "source": [
    "# rural cities: summary stats\n",
    "rural_cities_df.describe()"
   ]
  },
  {
   "cell_type": "code",
   "execution_count": 31,
   "metadata": {},
   "outputs": [
    {
     "data": {
      "text/plain": [
       "count    66.000000\n",
       "mean     24.621212\n",
       "std       5.408726\n",
       "min      12.000000\n",
       "25%      21.000000\n",
       "50%      24.000000\n",
       "75%      28.000000\n",
       "max      39.000000\n",
       "Name: ride_id, dtype: float64"
      ]
     },
     "execution_count": 31,
     "metadata": {},
     "output_type": "execute_result"
    }
   ],
   "source": [
    "# urban_ride_count: summary stats\n",
    "urban_ride_count.describe()"
   ]
  },
  {
   "cell_type": "code",
   "execution_count": 32,
   "metadata": {},
   "outputs": [
    {
     "data": {
      "text/plain": [
       "count    36.000000\n",
       "mean     17.361111\n",
       "std       4.323707\n",
       "min       9.000000\n",
       "25%      14.000000\n",
       "50%      17.000000\n",
       "75%      19.250000\n",
       "max      27.000000\n",
       "Name: ride_id, dtype: float64"
      ]
     },
     "execution_count": 32,
     "metadata": {},
     "output_type": "execute_result"
    }
   ],
   "source": [
    "# suburban_ride_count: summary stats\n",
    "suburban_ride_count.describe()"
   ]
  },
  {
   "cell_type": "code",
   "execution_count": 33,
   "metadata": {},
   "outputs": [
    {
     "data": {
      "text/plain": [
       "count    18.000000\n",
       "mean      6.944444\n",
       "std       2.508157\n",
       "min       3.000000\n",
       "25%       5.250000\n",
       "50%       6.000000\n",
       "75%       8.750000\n",
       "max      12.000000\n",
       "Name: ride_id, dtype: float64"
      ]
     },
     "execution_count": 33,
     "metadata": {},
     "output_type": "execute_result"
    }
   ],
   "source": [
    "# rural_ride_count: summary stats\n",
    "rural_ride_count.describe()"
   ]
  },
  {
   "cell_type": "code",
   "execution_count": 34,
   "metadata": {},
   "outputs": [
    {
     "data": {
      "text/plain": [
       "(24.62, 17.36, 6.94)"
      ]
     },
     "execution_count": 34,
     "metadata": {},
     "output_type": "execute_result"
    }
   ],
   "source": [
    "# Pandas: mean of the ride count for each city type\n",
    "round(urban_ride_count.mean(),2), round(suburban_ride_count.mean(),2), round(rural_ride_count.mean(),2)"
   ]
  },
  {
   "cell_type": "code",
   "execution_count": 35,
   "metadata": {},
   "outputs": [
    {
     "data": {
      "text/plain": [
       "(24.0, 17.0, 6.0)"
      ]
     },
     "execution_count": 35,
     "metadata": {},
     "output_type": "execute_result"
    }
   ],
   "source": [
    "# Pandas: median of the ride count for each city type\n",
    "round(urban_ride_count.median(),2), round(suburban_ride_count.median(),2), round(rural_ride_count.median(),2)"
   ]
  },
  {
   "cell_type": "code",
   "execution_count": 36,
   "metadata": {},
   "outputs": [
    {
     "data": {
      "text/plain": [
       "0    22\n",
       "1    25\n",
       "dtype: int64"
      ]
     },
     "execution_count": 36,
     "metadata": {},
     "output_type": "execute_result"
    }
   ],
   "source": [
    "# Pandas: mode of the ride count for the urban cities\n",
    "urban_ride_count.mode()"
   ]
  },
  {
   "cell_type": "code",
   "execution_count": 37,
   "metadata": {},
   "outputs": [
    {
     "data": {
      "text/plain": [
       "0    17\n",
       "dtype: int64"
      ]
     },
     "execution_count": 37,
     "metadata": {},
     "output_type": "execute_result"
    }
   ],
   "source": [
    "# Pandas: mode of the ride count for the suburban cities\n",
    "suburban_ride_count.mode()"
   ]
  },
  {
   "cell_type": "code",
   "execution_count": 38,
   "metadata": {},
   "outputs": [
    {
     "data": {
      "text/plain": [
       "0    6\n",
       "dtype: int64"
      ]
     },
     "execution_count": 38,
     "metadata": {},
     "output_type": "execute_result"
    }
   ],
   "source": [
    "# Pandas: mode of the ride count for the rural cities\n",
    "rural_ride_count.mode()"
   ]
  },
  {
   "cell_type": "code",
   "execution_count": 39,
   "metadata": {},
   "outputs": [
    {
     "name": "stdout",
     "output_type": "stream",
     "text": [
      "The mean for the ride counts for urban trips is 24.62.\n",
      "The median for the ride counts for urban trips is 24.0.\n",
      "The mode for the ride counts for urban trips is ModeResult(mode=array([22]), count=array([7])).\n"
     ]
    }
   ],
   "source": [
    "# Calculate the measures of central tendency for the ride count for the urban cities.\n",
    "mean_urban_ride_count = np.mean(urban_ride_count)\n",
    "print(f\"The mean for the ride counts for urban trips is {mean_urban_ride_count:.2f}.\")\n",
    "\n",
    "median_urban_ride_count = np.median(urban_ride_count)\n",
    "print(f\"The median for the ride counts for urban trips is {median_urban_ride_count}.\")\n",
    "\n",
    "mode_urban_ride_count = sts.mode(urban_ride_count)\n",
    "print(f\"The mode for the ride counts for urban trips is {mode_urban_ride_count}.\")"
   ]
  },
  {
   "cell_type": "code",
   "execution_count": 40,
   "metadata": {},
   "outputs": [
    {
     "name": "stdout",
     "output_type": "stream",
     "text": [
      "The mean for the ride counts for suburban trips is 17.36.\n",
      "The median for the ride counts for suburban trips is 17.0.\n",
      "The mode for the ride counts for suburban trips is ModeResult(mode=array([17]), count=array([7])).\n"
     ]
    }
   ],
   "source": [
    "# Calculate the measures of central tendency for the ride count for the suburban cities.\n",
    "mean_suburban_ride_count = np.mean(suburban_ride_count)\n",
    "print(f\"The mean for the ride counts for suburban trips is {mean_suburban_ride_count:.2f}.\")\n",
    "\n",
    "median_suburban_ride_count = np.median(suburban_ride_count)\n",
    "print(f\"The median for the ride counts for suburban trips is {median_suburban_ride_count}.\")\n",
    "\n",
    "mode_suburban_ride_count = sts.mode(suburban_ride_count)\n",
    "print(f\"The mode for the ride counts for suburban trips is {mode_suburban_ride_count}.\")"
   ]
  },
  {
   "cell_type": "code",
   "execution_count": 41,
   "metadata": {},
   "outputs": [
    {
     "name": "stdout",
     "output_type": "stream",
     "text": [
      "The mean for the ride counts for rural trips is 6.94.\n",
      "The median for the ride counts for rural trips is 6.0.\n",
      "The mode for the ride counts for rural trips is ModeResult(mode=array([6]), count=array([5])).\n"
     ]
    }
   ],
   "source": [
    "# Calculate the measures of central tendency for the ride count for the rural cities.\n",
    "mean_rural_ride_count = np.mean(rural_ride_count)\n",
    "print(f\"The mean for the ride counts for rural trips is {mean_rural_ride_count:.2f}.\")\n",
    "\n",
    "median_rural_ride_count = np.median(rural_ride_count)\n",
    "print(f\"The median for the ride counts for rural trips is {median_rural_ride_count}.\")\n",
    "\n",
    "mode_rural_ride_count = sts.mode(rural_ride_count)\n",
    "print(f\"The mode for the ride counts for rural trips is {mode_rural_ride_count}.\")"
   ]
  },
  {
   "cell_type": "code",
   "execution_count": 42,
   "metadata": {},
   "outputs": [
    {
     "data": {
      "text/plain": [
       "0    13.83\n",
       "1    30.24\n",
       "2    33.44\n",
       "3    23.44\n",
       "4    34.58\n",
       "Name: fare, dtype: float64"
      ]
     },
     "execution_count": 42,
     "metadata": {},
     "output_type": "execute_result"
    }
   ],
   "source": [
    "# Get the fares for the urban cities.\n",
    "urban_fares = urban_cities_df[\"fare\"]\n",
    "urban_fares.head()"
   ]
  },
  {
   "cell_type": "code",
   "execution_count": 43,
   "metadata": {},
   "outputs": [
    {
     "name": "stdout",
     "output_type": "stream",
     "text": [
      "The mean fare price for urban trips is $24.53.\n",
      "The median fare price for urban trips is $24.64.\n",
      "The mode fare price for urban trips is ModeResult(mode=array([22.86]), count=array([5])).\n"
     ]
    }
   ],
   "source": [
    "# Calculate the measures of central tendency for the average fare for the urban cities.\n",
    "mean_urban_fares = np.mean(urban_fares)\n",
    "print(f\"The mean fare price for urban trips is ${mean_urban_fares:.2f}.\")\n",
    "\n",
    "median_urban_fares = np.median(urban_fares)\n",
    "print(f\"The median fare price for urban trips is ${median_urban_fares:.2f}.\")\n",
    "\n",
    "mode_urban_fares = sts.mode(urban_fares)\n",
    "print(f\"The mode fare price for urban trips is {mode_urban_fares}.\")"
   ]
  },
  {
   "cell_type": "code",
   "execution_count": 44,
   "metadata": {},
   "outputs": [
    {
     "data": {
      "text/plain": [
       "1625    27.79\n",
       "1626    18.75\n",
       "1627    21.71\n",
       "1628    17.10\n",
       "1629    37.78\n",
       "Name: fare, dtype: float64"
      ]
     },
     "execution_count": 44,
     "metadata": {},
     "output_type": "execute_result"
    }
   ],
   "source": [
    "# get the fares for suburban cities\n",
    "suburban_fares = suburban_cities_df[\"fare\"]\n",
    "suburban_fares.head()"
   ]
  },
  {
   "cell_type": "code",
   "execution_count": 45,
   "metadata": {},
   "outputs": [
    {
     "name": "stdout",
     "output_type": "stream",
     "text": [
      "The mean fare price for suburban trips is $30.97.\n",
      "The median fare price for suburban trips is $30.75.\n",
      "The mode fare price for suburban trips is ModeResult(mode=array([17.99]), count=array([3])).\n"
     ]
    }
   ],
   "source": [
    "# Calculate the measures of central tendency for the average fare for the suburban cities.\n",
    "mean_suburban_fares = np.mean(suburban_fares)\n",
    "print(f\"The mean fare price for suburban trips is ${mean_suburban_fares:.2f}.\")\n",
    "\n",
    "median_suburban_fares = np.median(suburban_fares)\n",
    "print(f\"The median fare price for suburban trips is ${median_suburban_fares:.2f}.\")\n",
    "\n",
    "mode_suburban_fares = sts.mode(suburban_fares)\n",
    "print(f\"The mode fare price for suburban trips is {mode_suburban_fares}.\")"
   ]
  },
  {
   "cell_type": "code",
   "execution_count": 46,
   "metadata": {},
   "outputs": [
    {
     "data": {
      "text/plain": [
       "2250    43.22\n",
       "2251    12.42\n",
       "2252    54.85\n",
       "2253    47.90\n",
       "2254    51.80\n",
       "Name: fare, dtype: float64"
      ]
     },
     "execution_count": 46,
     "metadata": {},
     "output_type": "execute_result"
    }
   ],
   "source": [
    "# get the fares for rural cities\n",
    "rural_fares = rural_cities_df[\"fare\"]\n",
    "rural_fares.head()"
   ]
  },
  {
   "cell_type": "code",
   "execution_count": 47,
   "metadata": {},
   "outputs": [
    {
     "name": "stdout",
     "output_type": "stream",
     "text": [
      "The mean fare price for rural trips is $34.62.\n",
      "The median fare price for rural trips is $37.05.\n",
      "The mode fare price for rural trips is ModeResult(mode=array([37.05]), count=array([2])).\n"
     ]
    }
   ],
   "source": [
    "# calculate the measures of central tendency for the average fare for rural cities.\n",
    "mean_rural_fares = np.mean(rural_fares)\n",
    "print(f\"The mean fare price for rural trips is ${mean_rural_fares:.2f}.\")\n",
    "\n",
    "median_rural_fares = np.median(rural_fares)\n",
    "print(f\"The median fare price for rural trips is ${median_rural_fares:.2f}.\")\n",
    "\n",
    "mode_rural_fares = sts.mode(rural_fares)\n",
    "print(f\"The mode fare price for rural trips is {mode_rural_fares}.\")"
   ]
  },
  {
   "cell_type": "code",
   "execution_count": 48,
   "metadata": {},
   "outputs": [
    {
     "data": {
      "text/plain": [
       "0     5\n",
       "1    72\n",
       "2    57\n",
       "3    34\n",
       "4    46\n",
       "Name: driver_count, dtype: int64"
      ]
     },
     "execution_count": 48,
     "metadata": {},
     "output_type": "execute_result"
    }
   ],
   "source": [
    "# get the driver count data from the urban cities.\n",
    "urban_drivers = urban_cities_df['driver_count']\n",
    "urban_drivers.head()"
   ]
  },
  {
   "cell_type": "code",
   "execution_count": 49,
   "metadata": {},
   "outputs": [
    {
     "name": "stdout",
     "output_type": "stream",
     "text": [
      "The mean number of drivers for each urban city is 37.\n",
      "The median number of drivers for each urban city is 37.\n",
      "The mode number of drivers for each urban city is ModeResult(mode=array([39]), count=array([86])).\n"
     ]
    }
   ],
   "source": [
    "# calculate the measures of central tendency for the # of drivers for urban cities.\n",
    "mean_urban_drivers = np.mean(urban_drivers)\n",
    "print(f\"The mean number of drivers for each urban city is {mean_urban_drivers:.0f}.\")\n",
    "\n",
    "median_urban_drivers = np.median(urban_drivers)\n",
    "print(f\"The median number of drivers for each urban city is {median_urban_drivers:.0f}.\")\n",
    "\n",
    "mode_urban_drivers = sts.mode(urban_drivers)\n",
    "print(f\"The mode number of drivers for each urban city is {mode_urban_drivers}.\")"
   ]
  },
  {
   "cell_type": "code",
   "execution_count": 50,
   "metadata": {},
   "outputs": [
    {
     "data": {
      "text/plain": [
       "1625    11\n",
       "1626    20\n",
       "1627    22\n",
       "1628    19\n",
       "1629    12\n",
       "Name: driver_count, dtype: int64"
      ]
     },
     "execution_count": 50,
     "metadata": {},
     "output_type": "execute_result"
    }
   ],
   "source": [
    "# get the driver count data from the suburban cities\n",
    "suburban_drivers = suburban_cities_df['driver_count']\n",
    "suburban_drivers.head()"
   ]
  },
  {
   "cell_type": "code",
   "execution_count": 51,
   "metadata": {},
   "outputs": [
    {
     "name": "stdout",
     "output_type": "stream",
     "text": [
      "The mean number of drivers for each suburban city is 14.\n",
      "The median number of drivers for each suburban city is 16.\n",
      "The mode number of drivers for each suburban city is ModeResult(mode=array([20]), count=array([79])).\n"
     ]
    }
   ],
   "source": [
    "# calculate the measures of central tendency for the # of drivers for suburban cities\n",
    "mean_suburban_drivers = np.mean(suburban_drivers)\n",
    "print(f\"The mean number of drivers for each suburban city is {mean_suburban_drivers:.0f}.\")\n",
    "\n",
    "median_suburban_drivers = np.median(suburban_drivers)\n",
    "print(f\"The median number of drivers for each suburban city is {median_suburban_drivers:.0f}.\")\n",
    "\n",
    "mode_suburban_drivers = sts.mode(suburban_drivers)\n",
    "print(f\"The mode number of drivers for each suburban city is {mode_suburban_drivers}.\")"
   ]
  },
  {
   "cell_type": "code",
   "execution_count": 52,
   "metadata": {},
   "outputs": [
    {
     "data": {
      "text/plain": [
       "2250    9\n",
       "2251    8\n",
       "2252    6\n",
       "2253    2\n",
       "2254    2\n",
       "Name: driver_count, dtype: int64"
      ]
     },
     "execution_count": 52,
     "metadata": {},
     "output_type": "execute_result"
    }
   ],
   "source": [
    "# get the driver count data from the rural cities\n",
    "rural_drivers = rural_cities_df['driver_count']\n",
    "rural_drivers.head()"
   ]
  },
  {
   "cell_type": "code",
   "execution_count": 53,
   "metadata": {},
   "outputs": [
    {
     "name": "stdout",
     "output_type": "stream",
     "text": [
      "The mean number of drivers for each rural city is 4.\n",
      "The median number of drivers for each rural city is 4.\n",
      "The mode number of drivers for each rural city is ModeResult(mode=array([1]), count=array([32])).\n"
     ]
    }
   ],
   "source": [
    "# calculate the measures of central tendency for the # of drivers for rural cities\n",
    "mean_rural_drivers = np.mean(rural_drivers)\n",
    "print(f\"The mean number of drivers for each rural city is {mean_rural_drivers:.0f}.\")\n",
    "\n",
    "median_rural_drivers = np.median(rural_drivers)\n",
    "print(f\"The median number of drivers for each rural city is {median_rural_drivers:.0f}.\")\n",
    "\n",
    "mode_rural_drivers = sts.mode(rural_drivers)\n",
    "print(f\"The mode number of drivers for each rural city is {mode_rural_drivers}.\")"
   ]
  },
  {
   "cell_type": "code",
   "execution_count": 54,
   "metadata": {},
   "outputs": [
    {
     "data": {
      "image/png": "[encoded data removed]",
      "text/plain": [
       "<Figure size 432x288 with 1 Axes>"
      ]
     },
     "metadata": {
      "needs_background": "light"
     },
     "output_type": "display_data"
    }
   ],
   "source": [
    "# create a box-and-whisker plot for the urban cities ride count\n",
    "x_labels = [\"Urban\"]\n",
    "fig, ax = plt.subplots()\n",
    "ax.boxplot(urban_ride_count, labels=x_labels)\n",
    "# Add the title, y-axis label and grid.\n",
    "ax.set_title('Ride Count Data (2019)')\n",
    "ax.set_ylabel('Number of Rides')\n",
    "ax.set_yticks(np.arange(10, 41, step=2.0))\n",
    "ax.grid()\n",
    "plt.show()"
   ]
  },
  {
   "cell_type": "code",
   "execution_count": 55,
   "metadata": {},
   "outputs": [
    {
     "data": {
      "image/png": "[encoded data removed]",
      "text/plain": [
       "<Figure size 432x288 with 1 Axes>"
      ]
     },
     "metadata": {
      "needs_background": "light"
     },
     "output_type": "display_data"
    }
   ],
   "source": [
    "# create a box-and-whisker plot for the suburban cities ride count\n",
    "x_labels = [\"Suburban\"]\n",
    "fig, ax = plt.subplots()\n",
    "ax.boxplot(suburban_ride_count, labels=x_labels)\n",
    "# Add the title, y-axis label and grid.\n",
    "ax.set_title('Ride Count Data (2019)')\n",
    "ax.set_ylabel('Number of Rides')\n",
    "ax.set_yticks(np.arange(10, 41, step=2.0))\n",
    "ax.grid()\n",
    "plt.show()"
   ]
  },
  {
   "cell_type": "code",
   "execution_count": 56,
   "metadata": {},
   "outputs": [
    {
     "data": {
      "image/png": "[encoded data removed]",
      "text/plain": [
       "<Figure size 432x288 with 1 Axes>"
      ]
     },
     "metadata": {
      "needs_background": "light"
     },
     "output_type": "display_data"
    }
   ],
   "source": [
    "# create a box-and-whisker plot for the rural cities ride count\n",
    "x_labels = [\"Rural\"]\n",
    "fig, ax = plt.subplots()\n",
    "ax.boxplot(rural_ride_count, labels=x_labels)\n",
    "# Add the title, y-axis label and grid.\n",
    "ax.set_title('Ride Count Data (2019)')\n",
    "ax.set_ylabel('Number of Rides')\n",
    "ax.set_yticks(np.arange(10, 41, step=2.0))\n",
    "ax.grid()\n",
    "plt.show()"
   ]
  },
  {
   "cell_type": "code",
   "execution_count": 57,
   "metadata": {},
   "outputs": [
    {
     "data": {
      "image/png": "[encoded data removed]",
      "text/plain": [
       "<Figure size 720x432 with 1 Axes>"
      ]
     },
     "metadata": {
      "needs_background": "light"
     },
     "output_type": "display_data"
    }
   ],
   "source": [
    "# add all ride count box-and-whisker plots to the same graph\n",
    "x_labels = [\"Urban\", \"Suburban\",\"Rural\"]\n",
    "ride_count_data = [urban_ride_count, suburban_ride_count, rural_ride_count]\n",
    "fig, ax = plt.subplots(figsize=(10, 6))\n",
    "ax.set_title('Ride Count Data (2019)',fontsize=20)\n",
    "ax.set_ylabel('Number of Rides',fontsize=14)\n",
    "ax.set_xlabel(\"City Types\",fontsize=14)\n",
    "ax.boxplot(ride_count_data, labels=x_labels)\n",
    "ax.set_yticks(np.arange(0, 45, step=3.0))\n",
    "ax.grid()\n",
    "# save the figure\n",
    "plt.savefig(\"Analysis/Fig2.png\")\n",
    "plt.show()"
   ]
  },
  {
   "cell_type": "code",
   "execution_count": 58,
   "metadata": {},
   "outputs": [
    {
     "name": "stdout",
     "output_type": "stream",
     "text": [
      "West Angela has the highest rider count.\n"
     ]
    }
   ],
   "source": [
    "# get the city that matches 39\n",
    "urban_city_outlier = urban_ride_count[urban_ride_count==39].index[0]\n",
    "print(f\"{urban_city_outlier} has the highest rider count.\")"
   ]
  },
  {
   "cell_type": "code",
   "execution_count": 59,
   "metadata": {},
   "outputs": [
    {
     "data": {
      "image/png": "[encoded data removed]",
      "text/plain": [
       "<Figure size 432x288 with 1 Axes>"
      ]
     },
     "metadata": {
      "needs_background": "light"
     },
     "output_type": "display_data"
    },
    {
     "name": "stdout",
     "output_type": "stream",
     "text": [
      "Summary Statistics\n"
     ]
    },
    {
     "data": {
      "text/plain": [
       "count    1625.000000\n",
       "mean       24.525772\n",
       "std        11.738649\n",
       "min         4.050000\n",
       "25%        14.550000\n",
       "50%        24.640000\n",
       "75%        34.580000\n",
       "max        44.970000\n",
       "Name: fare, dtype: float64"
      ]
     },
     "execution_count": 59,
     "metadata": {},
     "output_type": "execute_result"
    }
   ],
   "source": [
    "# create a box-and-whisker plot for the urban fare data\n",
    "x_labels = [\"Urban\"]\n",
    "fig, ax = plt.subplots()\n",
    "ax.boxplot(urban_fares, labels=x_labels)\n",
    "# add the title, y-axis label and grid\n",
    "ax.set_title('Ride Fare Data (2019)')\n",
    "ax.set_ylabel('Fare($USD)')\n",
    "ax.set_yticks(np.arange(0, 51, step=5.0))\n",
    "ax.grid()\n",
    "plt.show()\n",
    "print(\"Summary Statistics\")\n",
    "urban_fares.describe()"
   ]
  },
  {
   "cell_type": "code",
   "execution_count": 60,
   "metadata": {},
   "outputs": [
    {
     "data": {
      "image/png": "[encoded data removed]",
      "text/plain": [
       "<Figure size 432x288 with 1 Axes>"
      ]
     },
     "metadata": {
      "needs_background": "light"
     },
     "output_type": "display_data"
    },
    {
     "name": "stdout",
     "output_type": "stream",
     "text": [
      "Summary Statistics\n"
     ]
    },
    {
     "data": {
      "text/plain": [
       "count    625.000000\n",
       "mean      30.970128\n",
       "std       10.677508\n",
       "min       12.050000\n",
       "25%       21.970000\n",
       "50%       30.750000\n",
       "75%       39.830000\n",
       "max       49.960000\n",
       "Name: fare, dtype: float64"
      ]
     },
     "execution_count": 60,
     "metadata": {},
     "output_type": "execute_result"
    }
   ],
   "source": [
    "# create a box-and-whisker plot for the suburban fare data\n",
    "x_labels = [\"Suburban\"]\n",
    "fig, ax = plt.subplots()\n",
    "ax.boxplot(suburban_fares, labels=x_labels)\n",
    "# add the title, y-axis label and grid\n",
    "ax.set_title('Ride Fare Data (2019)')\n",
    "ax.set_ylabel('Fare($USD)')\n",
    "ax.set_yticks(np.arange(0, 51, step=5.0))\n",
    "ax.grid()\n",
    "plt.show()\n",
    "print(\"Summary Statistics\")\n",
    "suburban_fares.describe()"
   ]
  },
  {
   "cell_type": "code",
   "execution_count": 61,
   "metadata": {},
   "outputs": [
    {
     "data": {
      "image/png": "[encoded data removed]",
      "text/plain": [
       "<Figure size 432x288 with 1 Axes>"
      ]
     },
     "metadata": {
      "needs_background": "light"
     },
     "output_type": "display_data"
    },
    {
     "name": "stdout",
     "output_type": "stream",
     "text": [
      "Summary Statistics\n"
     ]
    },
    {
     "data": {
      "text/plain": [
       "count    125.000000\n",
       "mean      34.623440\n",
       "std       14.558046\n",
       "min       10.110000\n",
       "25%       19.900000\n",
       "50%       37.050000\n",
       "75%       47.070000\n",
       "max       58.550000\n",
       "Name: fare, dtype: float64"
      ]
     },
     "execution_count": 61,
     "metadata": {},
     "output_type": "execute_result"
    }
   ],
   "source": [
    "# create a box-and-whisker plot for the rural fare data\n",
    "x_labels = [\"Rural\"]\n",
    "fig, ax = plt.subplots()\n",
    "ax.boxplot(rural_fares, labels=x_labels)\n",
    "# add the title, y-axis label and grid\n",
    "ax.set_title('Ride Fare Data (2019)')\n",
    "ax.set_ylabel('Fare($USD)')\n",
    "ax.set_yticks(np.arange(0, 51, step=5.0))\n",
    "ax.grid()\n",
    "plt.show()\n",
    "print(\"Summary Statistics\")\n",
    "rural_fares.describe()"
   ]
  },
  {
   "cell_type": "code",
   "execution_count": 62,
   "metadata": {},
   "outputs": [
    {
     "data": {
      "image/png": "[encoded data removed]",
      "text/plain": [
       "<Figure size 720x432 with 1 Axes>"
      ]
     },
     "metadata": {
      "needs_background": "light"
     },
     "output_type": "display_data"
    }
   ],
   "source": [
    "# create a box-and-whisker plot for the rural fare data\n",
    "x_labels = [\"Urban\", \"Suburban\", \"Rural\"]\n",
    "fares_data = [urban_fares, suburban_fares, rural_fares]\n",
    "fig, ax = plt.subplots(figsize=(10,6))\n",
    "ax.boxplot(fares_data, labels=x_labels)\n",
    "# add the title, y-axis label and grid\n",
    "ax.set_title('Ride Fare Data (2019)', fontsize=20)\n",
    "ax.set_ylabel('Fare($USD)', fontsize=14)\n",
    "ax.set_xlabel('City Types', fontsize=14)\n",
    "ax.set_yticks(np.arange(0, 60, step=5.0))\n",
    "ax.grid()\n",
    "# save the figure\n",
    "plt.savefig(\"Analysis/Fig3.png\")\n",
    "plt.show()"
   ]
  },
  {
   "cell_type": "code",
   "execution_count": 63,
   "metadata": {},
   "outputs": [
    {
     "data": {
      "image/png": "[encoded data removed]",
      "text/plain": [
       "<Figure size 432x288 with 1 Axes>"
      ]
     },
     "metadata": {
      "needs_background": "light"
     },
     "output_type": "display_data"
    },
    {
     "name": "stdout",
     "output_type": "stream",
     "text": [
      "Summary Statistics\n"
     ]
    },
    {
     "data": {
      "text/plain": [
       "count    1625.000000\n",
       "mean       36.678154\n",
       "std        20.075545\n",
       "min         3.000000\n",
       "25%        22.000000\n",
       "50%        37.000000\n",
       "75%        52.000000\n",
       "max        73.000000\n",
       "Name: driver_count, dtype: float64"
      ]
     },
     "execution_count": 63,
     "metadata": {},
     "output_type": "execute_result"
    }
   ],
   "source": [
    "# Create the box-and-whisker plot for the urban driver count data.\n",
    "x_labels = [\"Urban\"]\n",
    "fig, ax = plt.subplots()\n",
    "ax.boxplot(urban_drivers,labels=x_labels)\n",
    "# Add the title, y-axis label and grid.\n",
    "ax.set_title('Driver Count Data (2019)')\n",
    "ax.set_ylabel('Number of Drivers)')\n",
    "ax.set_yticks(np.arange(0, 90, step=5.0))\n",
    "ax.grid()\n",
    "plt.show()\n",
    "print(\"Summary Statistics\")\n",
    "urban_drivers.describe()"
   ]
  },
  {
   "cell_type": "code",
   "execution_count": 64,
   "metadata": {},
   "outputs": [
    {
     "data": {
      "image/png": "[encoded data removed]",
      "text/plain": [
       "<Figure size 432x288 with 1 Axes>"
      ]
     },
     "metadata": {
      "needs_background": "light"
     },
     "output_type": "display_data"
    },
    {
     "name": "stdout",
     "output_type": "stream",
     "text": [
      "Summary Statistics\n"
     ]
    },
    {
     "data": {
      "text/plain": [
       "count    625.000000\n",
       "mean      13.712000\n",
       "std        8.042372\n",
       "min        1.000000\n",
       "25%        5.000000\n",
       "50%       16.000000\n",
       "75%       21.000000\n",
       "max       25.000000\n",
       "Name: driver_count, dtype: float64"
      ]
     },
     "execution_count": 64,
     "metadata": {},
     "output_type": "execute_result"
    }
   ],
   "source": [
    "# Create the box-and-whisker plot for the suburban driver count data.\n",
    "x_labels = [\"Suburban\"]\n",
    "fig, ax = plt.subplots()\n",
    "ax.boxplot(suburban_drivers,labels=x_labels)\n",
    "# Add the title, y-axis label and grid.\n",
    "ax.set_title('Driver Count Data (2019)')\n",
    "ax.set_ylabel('Number of Drivers)')\n",
    "ax.set_yticks(np.arange(0, 90, step=5.0))\n",
    "ax.grid()\n",
    "plt.show()\n",
    "print(\"Summary Statistics\")\n",
    "suburban_drivers.describe()"
   ]
  },
  {
   "cell_type": "code",
   "execution_count": 65,
   "metadata": {},
   "outputs": [
    {
     "data": {
      "image/png": "[encoded data removed]",
      "text/plain": [
       "<Figure size 432x288 with 1 Axes>"
      ]
     },
     "metadata": {
      "needs_background": "light"
     },
     "output_type": "display_data"
    },
    {
     "name": "stdout",
     "output_type": "stream",
     "text": [
      "Summary Statistics\n"
     ]
    },
    {
     "data": {
      "text/plain": [
       "count    125.000000\n",
       "mean       4.296000\n",
       "std        2.691156\n",
       "min        1.000000\n",
       "25%        1.000000\n",
       "50%        4.000000\n",
       "75%        7.000000\n",
       "max        9.000000\n",
       "Name: driver_count, dtype: float64"
      ]
     },
     "execution_count": 65,
     "metadata": {},
     "output_type": "execute_result"
    }
   ],
   "source": [
    "# Create the box-and-whisker plot for the rural driver count data.\n",
    "x_labels = [\"Rural\"]\n",
    "fig, ax = plt.subplots()\n",
    "ax.boxplot(rural_drivers,labels=x_labels)\n",
    "# Add the title, y-axis label and grid.\n",
    "ax.set_title('Driver Count Data (2019)')\n",
    "ax.set_ylabel('Number of Drivers)')\n",
    "ax.set_yticks(np.arange(0, 90, step=5.0))\n",
    "ax.grid()\n",
    "plt.show()\n",
    "print(\"Summary Statistics\")\n",
    "rural_drivers.describe()"
   ]
  },
  {
   "cell_type": "code",
   "execution_count": 66,
   "metadata": {},
   "outputs": [
    {
     "data": {
      "image/png": "[encoded data removed]",
      "text/plain": [
       "<Figure size 720x432 with 1 Axes>"
      ]
     },
     "metadata": {
      "needs_background": "light"
     },
     "output_type": "display_data"
    }
   ],
   "source": [
    "# Create the box-and-whisker plot for the rural driver count data.\n",
    "x_labels = [\"Urban\", \"Suburban\", \"Rural\"]\n",
    "driver_count_data = [urban_drivers, suburban_drivers, rural_drivers]\n",
    "fig, ax = plt.subplots(figsize=(10,6))\n",
    "ax.boxplot(driver_count_data,labels=x_labels)\n",
    "# Add the title, y-axis label and grid.\n",
    "ax.set_title('Driver Count Data (2019)', fontsize=20)\n",
    "ax.set_ylabel('Number of Drivers)', fontsize=14)\n",
    "ax.set_xlabel('City Types', fontsize=14)\n",
    "ax.set_yticks(np.arange(0, 80, step=5.0))\n",
    "ax.grid()\n",
    "# save the figure\n",
    "plt.savefig(\"Analysis/Fig4.png\")\n",
    "plt.show()"
   ]
  },
  {
   "cell_type": "code",
   "execution_count": 67,
   "metadata": {},
   "outputs": [
    {
     "data": {
      "text/plain": [
       "type\n",
       "Rural        4327.93\n",
       "Suburban    19356.33\n",
       "Urban       39854.38\n",
       "Name: fare, dtype: float64"
      ]
     },
     "execution_count": 67,
     "metadata": {},
     "output_type": "execute_result"
    }
   ],
   "source": [
    "# get the sum of the fares for each city type\n",
    "sum_fares_by_type = pyber_data_df.groupby([\"type\"]).sum()[\"fare\"]\n",
    "sum_fares_by_type"
   ]
  },
  {
   "cell_type": "code",
   "execution_count": 68,
   "metadata": {},
   "outputs": [
    {
     "data": {
      "text/plain": [
       "63538.64"
      ]
     },
     "execution_count": 68,
     "metadata": {},
     "output_type": "execute_result"
    }
   ],
   "source": [
    "# get the sum of all the fares\n",
    "total_fares = pyber_data_df[\"fare\"].sum()\n",
    "total_fares"
   ]
  },
  {
   "cell_type": "code",
   "execution_count": 69,
   "metadata": {},
   "outputs": [
    {
     "data": {
      "text/plain": [
       "type\n",
       "Rural        6.811493\n",
       "Suburban    30.463872\n",
       "Urban       62.724635\n",
       "Name: fare, dtype: float64"
      ]
     },
     "execution_count": 69,
     "metadata": {},
     "output_type": "execute_result"
    }
   ],
   "source": [
    "# calculate the percentage of fare for each city type\n",
    "fare_percents = 100 * pyber_data_df.groupby([\"type\"]).sum()[\"fare\"] / pyber_data_df[\"fare\"].sum()\n",
    "fare_percents"
   ]
  },
  {
   "cell_type": "code",
   "execution_count": 70,
   "metadata": {},
   "outputs": [
    {
     "data": {
      "image/png": "[encoded data removed]",
      "text/plain": [
       "<Figure size 720x432 with 1 Axes>"
      ]
     },
     "metadata": {},
     "output_type": "display_data"
    }
   ],
   "source": [
    "# build the percentage of fares by city type pie chart\n",
    "plt.subplots(figsize=(10,6))\n",
    "\n",
    "# change default font size from 10 to 14\n",
    "mpl.rcParams['font.size'] = 14\n",
    "\n",
    "plt.pie(fare_percents,\n",
    "    labels=[\"Rural\", \"Suburban\", \"Urban\"],\n",
    "    colors=[\"gold\", \"lightskyblue\", \"lightcoral\"],\n",
    "    explode=[0, 0, 0.1],\n",
    "    autopct='%1.1f%%',\n",
    "    shadow=True, startangle=150)\n",
    "plt.title(\"% of Total Fares by City Type\")\n",
    "\n",
    "# save figure\n",
    "plt.savefig(\"Analysis/Fig5.png\")\n",
    "\n",
    "# show figure\n",
    "plt.show()"
   ]
  },
  {
   "cell_type": "code",
   "execution_count": 71,
   "metadata": {},
   "outputs": [
    {
     "data": {
      "text/plain": [
       "type\n",
       "Rural        125\n",
       "Suburban     625\n",
       "Urban       1625\n",
       "Name: ride_id, dtype: int64"
      ]
     },
     "execution_count": 71,
     "metadata": {},
     "output_type": "execute_result"
    }
   ],
   "source": [
    "# get the ride count for each city type\n",
    "rides_by_type = pyber_data_df.groupby([\"type\"]).count()[\"ride_id\"]\n",
    "rides_by_type"
   ]
  },
  {
   "cell_type": "code",
   "execution_count": 72,
   "metadata": {},
   "outputs": [
    {
     "data": {
      "text/plain": [
       "2375"
      ]
     },
     "execution_count": 72,
     "metadata": {},
     "output_type": "execute_result"
    }
   ],
   "source": [
    "# get the total ride count\n",
    "total_rides = pyber_data_df[\"ride_id\"].count()\n",
    "total_rides"
   ]
  },
  {
   "cell_type": "code",
   "execution_count": 73,
   "metadata": {},
   "outputs": [
    {
     "data": {
      "text/plain": [
       "type\n",
       "Rural        5.263158\n",
       "Suburban    26.315789\n",
       "Urban       68.421053\n",
       "Name: ride_id, dtype: float64"
      ]
     },
     "execution_count": 73,
     "metadata": {},
     "output_type": "execute_result"
    }
   ],
   "source": [
    "# calculate the percentage of rides for each city type\n",
    "ride_percents = 100 * pyber_data_df.groupby([\"type\"]).count()[\"ride_id\"] / pyber_data_df[\"ride_id\"].count()\n",
    "ride_percents"
   ]
  },
  {
   "cell_type": "code",
   "execution_count": 74,
   "metadata": {},
   "outputs": [
    {
     "data": {
      "image/png": "[encoded data removed]",
      "text/plain": [
       "<Figure size 720x432 with 1 Axes>"
      ]
     },
     "metadata": {},
     "output_type": "display_data"
    }
   ],
   "source": [
    "# build the percentage of rides by city type pie chart\n",
    "plt.subplots(figsize=(10,6))\n",
    "\n",
    "plt.pie(ride_percents,\n",
    "    labels=[\"Rural\", \"Suburban\", \"Urban\"],\n",
    "    colors=[\"gold\", \"lightskyblue\", \"lightcoral\"],\n",
    "    explode=[0, 0, 0.1],\n",
    "    autopct='%1.1f%%',\n",
    "    shadow=True, startangle=150)\n",
    "plt.title(\"% of Total Rides by City Type\")\n",
    "\n",
    "# change default font size from 10 to 14\n",
    "mpl.rcParams['font.size'] = 14\n",
    "\n",
    "# save figure\n",
    "plt.savefig(\"Analysis/Fig6.png\")\n",
    "\n",
    "# show figure\n",
    "plt.show()"
   ]
  },
  {
   "cell_type": "code",
   "execution_count": 75,
   "metadata": {},
   "outputs": [
    {
     "data": {
      "text/plain": [
       "120"
      ]
     },
     "execution_count": 75,
     "metadata": {},
     "output_type": "execute_result"
    }
   ],
   "source": [
    "# make pie chart of % of total drivers by city type\n",
    "\n",
    "## confirm number of cities (no duplicates)\n",
    "len(city_data_df[\"city\"].unique())"
   ]
  },
  {
   "cell_type": "code",
   "execution_count": 76,
   "metadata": {},
   "outputs": [
    {
     "data": {
      "text/plain": [
       "type\n",
       "Rural         78\n",
       "Suburban     490\n",
       "Urban       2405\n",
       "Name: driver_count, dtype: int64"
      ]
     },
     "execution_count": 76,
     "metadata": {},
     "output_type": "execute_result"
    }
   ],
   "source": [
    "## sum of drivers by city type\n",
    "sum_drivers = city_data_df.groupby([\"type\"]).sum()[\"driver_count\"]\n",
    "sum_drivers"
   ]
  },
  {
   "cell_type": "code",
   "execution_count": 77,
   "metadata": {},
   "outputs": [
    {
     "data": {
      "text/plain": [
       "2973"
      ]
     },
     "execution_count": 77,
     "metadata": {},
     "output_type": "execute_result"
    }
   ],
   "source": [
    "## total number of drivers\n",
    "total_drivers = city_data_df[\"driver_count\"].sum()\n",
    "total_drivers"
   ]
  },
  {
   "cell_type": "code",
   "execution_count": 78,
   "metadata": {},
   "outputs": [
    {
     "data": {
      "text/plain": [
       "type\n",
       "Rural        2.623613\n",
       "Suburban    16.481668\n",
       "Urban       80.894719\n",
       "Name: driver_count, dtype: float64"
      ]
     },
     "execution_count": 78,
     "metadata": {},
     "output_type": "execute_result"
    }
   ],
   "source": [
    "## percentage of drivers by city type\n",
    "driver_percents = 100*city_data_df.groupby([\"type\"]).sum()[\"driver_count\"] / city_data_df[\"driver_count\"].sum()\n",
    "driver_percents"
   ]
  },
  {
   "cell_type": "code",
   "execution_count": 79,
   "metadata": {},
   "outputs": [
    {
     "data": {
      "image/png": "[encoded data removed]",
      "text/plain": [
       "<Figure size 720x432 with 1 Axes>"
      ]
     },
     "metadata": {},
     "output_type": "display_data"
    }
   ],
   "source": [
    "## pie chart: % of drivers by city type\n",
    "plt.subplots(figsize=(10,6))\n",
    "\n",
    "plt.pie(driver_percents,\n",
    "    labels=[\"Rural\", \"Suburban\", \"Urban\"],\n",
    "    colors=[\"gold\", \"lightskyblue\", \"lightcoral\"],\n",
    "    explode=[0, 0, 0.1],\n",
    "    autopct='%1.1f%%',\n",
    "    shadow=True, startangle=165)\n",
    "plt.title(\"% of Total Drivers by City Type\")\n",
    "\n",
    "# change default font size from 10 to 14\n",
    "mpl.rcParams['font.size'] = 14\n",
    "\n",
    "# save figure\n",
    "plt.savefig(\"Analysis/Fig7.png\")\n",
    "\n",
    "# show figure\n",
    "plt.show()"
   ]
  },
  {
   "cell_type": "code",
   "execution_count": 80,
   "metadata": {},
   "outputs": [
    {
     "data": {
      "text/plain": [
       "type\n",
       "Rural        125\n",
       "Suburban     625\n",
       "Urban       1625\n",
       "Name: ride_id, dtype: int64"
      ]
     },
     "execution_count": 80,
     "metadata": {},
     "output_type": "execute_result"
    }
   ],
   "source": [
    "# Challenge\n",
    "\n",
    "## total rides per city type\n",
    "total_rides = pyber_data_df.groupby([\"type\"]).count()[\"ride_id\"]\n",
    "total_rides"
   ]
  },
  {
   "cell_type": "code",
   "execution_count": 81,
   "metadata": {},
   "outputs": [
    {
     "data": {
      "text/plain": [
       "type\n",
       "Rural         78\n",
       "Suburban     490\n",
       "Urban       2405\n",
       "Name: driver_count, dtype: int64"
      ]
     },
     "execution_count": 81,
     "metadata": {},
     "output_type": "execute_result"
    }
   ],
   "source": [
    "## total drivers per city type\n",
    "total_drivers = city_data_df.groupby([\"type\"]).sum()[\"driver_count\"]\n",
    "total_drivers"
   ]
  },
  {
   "cell_type": "code",
   "execution_count": 82,
   "metadata": {},
   "outputs": [
    {
     "data": {
      "text/plain": [
       "type\n",
       "Rural        4327.93\n",
       "Suburban    19356.33\n",
       "Urban       39854.38\n",
       "Name: fare, dtype: float64"
      ]
     },
     "execution_count": 82,
     "metadata": {},
     "output_type": "execute_result"
    }
   ],
   "source": [
    "## total fares per city type\n",
    "total_fares = pyber_data_df.groupby([\"type\"]).sum()[\"fare\"]\n",
    "total_fares"
   ]
  },
  {
   "cell_type": "code",
   "execution_count": 83,
   "metadata": {},
   "outputs": [
    {
     "data": {
      "text/plain": [
       "type\n",
       "Rural       34.623440\n",
       "Suburban    30.970128\n",
       "Urban       24.525772\n",
       "Name: fare, dtype: float64"
      ]
     },
     "execution_count": 83,
     "metadata": {},
     "output_type": "execute_result"
    }
   ],
   "source": [
    "## average fare per ride per city type\n",
    "fare_per_ride = pyber_data_df.groupby([\"type\"]).mean()[\"fare\"]\n",
    "fare_per_ride"
   ]
  },
  {
   "cell_type": "code",
   "execution_count": 84,
   "metadata": {},
   "outputs": [
    {
     "data": {
      "text/plain": [
       "type\n",
       "Rural       55.486282\n",
       "Suburban    39.502714\n",
       "Urban       16.571468\n",
       "dtype: float64"
      ]
     },
     "execution_count": 84,
     "metadata": {},
     "output_type": "execute_result"
    }
   ],
   "source": [
    "## average fare per driver per city type\n",
    "fare_per_driver = pyber_data_df.groupby([\"type\"]).sum()[\"fare\"] / city_data_df.groupby([\"type\"]).sum()[\"driver_count\"]\n",
    "fare_per_driver"
   ]
  },
  {
   "cell_type": "code",
   "execution_count": 85,
   "metadata": {},
   "outputs": [
    {
     "data": {
      "text/html": [
       "<div>\n",
       "<style scoped>\n",
       "    .dataframe tbody tr th:only-of-type {\n",
       "        vertical-align: middle;\n",
       "    }\n",
       "\n",
       "    .dataframe tbody tr th {\n",
       "        vertical-align: top;\n",
       "    }\n",
       "\n",
       "    .dataframe thead th {\n",
       "        text-align: right;\n",
       "    }\n",
       "</style>\n",
       "<table border=\"1\" class=\"dataframe\">\n",
       "  <thead>\n",
       "    <tr style=\"text-align: right;\">\n",
       "      <th></th>\n",
       "      <th>Total Rides</th>\n",
       "      <th>Total Drivers</th>\n",
       "      <th>Total Fares</th>\n",
       "      <th>Average Fare per Ride</th>\n",
       "      <th>Average Fare per Driver</th>\n",
       "    </tr>\n",
       "  </thead>\n",
       "  <tbody>\n",
       "    <tr>\n",
       "      <th>Rural</th>\n",
       "      <td>125</td>\n",
       "      <td>78</td>\n",
       "      <td>$4,327.93</td>\n",
       "      <td>$34.62</td>\n",
       "      <td>$55.49</td>\n",
       "    </tr>\n",
       "    <tr>\n",
       "      <th>Suburban</th>\n",
       "      <td>625</td>\n",
       "      <td>490</td>\n",
       "      <td>$19,356.33</td>\n",
       "      <td>$30.97</td>\n",
       "      <td>$39.50</td>\n",
       "    </tr>\n",
       "    <tr>\n",
       "      <th>Urban</th>\n",
       "      <td>1,625</td>\n",
       "      <td>2,405</td>\n",
       "      <td>$39,854.38</td>\n",
       "      <td>$24.53</td>\n",
       "      <td>$16.57</td>\n",
       "    </tr>\n",
       "  </tbody>\n",
       "</table>\n",
       "</div>"
      ],
      "text/plain": [
       "         Total Rides Total Drivers Total Fares Average Fare per Ride  \\\n",
       "Rural            125            78   $4,327.93                $34.62   \n",
       "Suburban         625           490  $19,356.33                $30.97   \n",
       "Urban          1,625         2,405  $39,854.38                $24.53   \n",
       "\n",
       "         Average Fare per Driver  \n",
       "Rural                     $55.49  \n",
       "Suburban                  $39.50  \n",
       "Urban                     $16.57  "
      ]
     },
     "execution_count": 85,
     "metadata": {},
     "output_type": "execute_result"
    }
   ],
   "source": [
    "## create summary df\n",
    "summary_df = pd.DataFrame({\n",
    "    \"Total Rides\": total_rides,\n",
    "    \"Total Drivers\": total_drivers,\n",
    "    \"Total Fares\": total_fares,\n",
    "    \"Average Fare per Ride\": fare_per_ride,\n",
    "    \"Average Fare per Driver\": fare_per_driver})\n",
    "\n",
    "## delete index name\n",
    "summary_df.index.name = None\n",
    "\n",
    "## formatting\n",
    "summary_df[\"Total Rides\"] = summary_df[\"Total Rides\"].map(\"{:,}\".format)\n",
    "summary_df[\"Total Drivers\"] = summary_df[\"Total Drivers\"].map(\"{:,}\".format)\n",
    "summary_df[\"Total Fares\"] = summary_df[\"Total Fares\"].map(\"${:,.2f}\".format)\n",
    "summary_df[\"Average Fare per Ride\"] = summary_df[\"Average Fare per Ride\"].map(\"${:.2f}\".format)\n",
    "summary_df[\"Average Fare per Driver\"] = summary_df[\"Average Fare per Driver\"].map(\"${:.2f}\".format)\n",
    "\n",
    "summary_df"
   ]
  },
  {
   "cell_type": "code",
   "execution_count": 86,
   "metadata": {},
   "outputs": [
    {
     "data": {
      "text/html": [
       "<div>\n",
       "<style scoped>\n",
       "    .dataframe tbody tr th:only-of-type {\n",
       "        vertical-align: middle;\n",
       "    }\n",
       "\n",
       "    .dataframe tbody tr th {\n",
       "        vertical-align: top;\n",
       "    }\n",
       "\n",
       "    .dataframe thead th {\n",
       "        text-align: right;\n",
       "    }\n",
       "</style>\n",
       "<table border=\"1\" class=\"dataframe\">\n",
       "  <thead>\n",
       "    <tr style=\"text-align: right;\">\n",
       "      <th></th>\n",
       "      <th>City</th>\n",
       "      <th>Date</th>\n",
       "      <th>Fare</th>\n",
       "      <th>Ride Id</th>\n",
       "      <th>No. Drivers</th>\n",
       "      <th>City Type</th>\n",
       "    </tr>\n",
       "  </thead>\n",
       "  <tbody>\n",
       "    <tr>\n",
       "      <th>0</th>\n",
       "      <td>Lake Jonathanshire</td>\n",
       "      <td>2019-01-14 10:14</td>\n",
       "      <td>13.83</td>\n",
       "      <td>5.740000e+12</td>\n",
       "      <td>5</td>\n",
       "      <td>Urban</td>\n",
       "    </tr>\n",
       "    <tr>\n",
       "      <th>1</th>\n",
       "      <td>South Michelleport</td>\n",
       "      <td>2019-03-04 18:24</td>\n",
       "      <td>30.24</td>\n",
       "      <td>2.340000e+12</td>\n",
       "      <td>72</td>\n",
       "      <td>Urban</td>\n",
       "    </tr>\n",
       "    <tr>\n",
       "      <th>2</th>\n",
       "      <td>Port Samanthamouth</td>\n",
       "      <td>2019-02-24 4:29</td>\n",
       "      <td>33.44</td>\n",
       "      <td>2.010000e+12</td>\n",
       "      <td>57</td>\n",
       "      <td>Urban</td>\n",
       "    </tr>\n",
       "    <tr>\n",
       "      <th>3</th>\n",
       "      <td>Rodneyfort</td>\n",
       "      <td>2019-02-10 23:22</td>\n",
       "      <td>23.44</td>\n",
       "      <td>5.150000e+12</td>\n",
       "      <td>34</td>\n",
       "      <td>Urban</td>\n",
       "    </tr>\n",
       "    <tr>\n",
       "      <th>4</th>\n",
       "      <td>South Jack</td>\n",
       "      <td>2019-03-06 4:28</td>\n",
       "      <td>34.58</td>\n",
       "      <td>3.910000e+12</td>\n",
       "      <td>46</td>\n",
       "      <td>Urban</td>\n",
       "    </tr>\n",
       "  </tbody>\n",
       "</table>\n",
       "</div>"
      ],
      "text/plain": [
       "                 City              Date   Fare       Ride Id  No. Drivers  \\\n",
       "0  Lake Jonathanshire  2019-01-14 10:14  13.83  5.740000e+12            5   \n",
       "1  South Michelleport  2019-03-04 18:24  30.24  2.340000e+12           72   \n",
       "2  Port Samanthamouth   2019-02-24 4:29  33.44  2.010000e+12           57   \n",
       "3          Rodneyfort  2019-02-10 23:22  23.44  5.150000e+12           34   \n",
       "4          South Jack   2019-03-06 4:28  34.58  3.910000e+12           46   \n",
       "\n",
       "  City Type  \n",
       "0     Urban  \n",
       "1     Urban  \n",
       "2     Urban  \n",
       "3     Urban  \n",
       "4     Urban  "
      ]
     },
     "execution_count": 86,
     "metadata": {},
     "output_type": "execute_result"
    }
   ],
   "source": [
    "## rename columns in pyber_data_df\n",
    "pyber_data_df.columns = pyber_data_df.columns.map({'city':'City', \n",
    "                                                   'date':'Date',\n",
    "                                                   'fare':'Fare', \n",
    "                                                   'ride_id': 'Ride Id',\n",
    "                                                   'driver_count': 'No. Drivers', \n",
    "                                                   'type':'City Type'})\n",
    "pyber_data_df.head()"
   ]
  },
  {
   "cell_type": "code",
   "execution_count": 87,
   "metadata": {},
   "outputs": [
    {
     "name": "stdout",
     "output_type": "stream",
     "text": [
      "<class 'pandas.core.frame.DataFrame'>\n",
      "Int64Index: 2375 entries, 0 to 2374\n",
      "Data columns (total 6 columns):\n",
      " #   Column       Non-Null Count  Dtype         \n",
      "---  ------       --------------  -----         \n",
      " 0   City         2375 non-null   object        \n",
      " 1   Date         2375 non-null   datetime64[ns]\n",
      " 2   Fare         2375 non-null   float64       \n",
      " 3   Ride Id      2375 non-null   float64       \n",
      " 4   No. Drivers  2375 non-null   int64         \n",
      " 5   City Type    2375 non-null   object        \n",
      "dtypes: datetime64[ns](1), float64(2), int64(1), object(2)\n",
      "memory usage: 129.9+ KB\n"
     ]
    }
   ],
   "source": [
    "## convert date to datetime dtype & confirm\n",
    "pyber_data_df[\"Date\"] = pyber_data_df[\"Date\"].astype(\"datetime64[ns]\")\n",
    "pyber_data_df.info()"
   ]
  },
  {
   "cell_type": "code",
   "execution_count": 88,
   "metadata": {},
   "outputs": [
    {
     "data": {
      "text/html": [
       "<div>\n",
       "<style scoped>\n",
       "    .dataframe tbody tr th:only-of-type {\n",
       "        vertical-align: middle;\n",
       "    }\n",
       "\n",
       "    .dataframe tbody tr th {\n",
       "        vertical-align: top;\n",
       "    }\n",
       "\n",
       "    .dataframe thead th {\n",
       "        text-align: right;\n",
       "    }\n",
       "</style>\n",
       "<table border=\"1\" class=\"dataframe\">\n",
       "  <thead>\n",
       "    <tr style=\"text-align: right;\">\n",
       "      <th></th>\n",
       "      <th>City</th>\n",
       "      <th>Fare</th>\n",
       "      <th>Ride Id</th>\n",
       "      <th>No. Drivers</th>\n",
       "      <th>City Type</th>\n",
       "    </tr>\n",
       "    <tr>\n",
       "      <th>Date</th>\n",
       "      <th></th>\n",
       "      <th></th>\n",
       "      <th></th>\n",
       "      <th></th>\n",
       "      <th></th>\n",
       "    </tr>\n",
       "  </thead>\n",
       "  <tbody>\n",
       "    <tr>\n",
       "      <th>2019-01-14 10:14:00</th>\n",
       "      <td>Lake Jonathanshire</td>\n",
       "      <td>13.83</td>\n",
       "      <td>5.740000e+12</td>\n",
       "      <td>5</td>\n",
       "      <td>Urban</td>\n",
       "    </tr>\n",
       "    <tr>\n",
       "      <th>2019-03-04 18:24:00</th>\n",
       "      <td>South Michelleport</td>\n",
       "      <td>30.24</td>\n",
       "      <td>2.340000e+12</td>\n",
       "      <td>72</td>\n",
       "      <td>Urban</td>\n",
       "    </tr>\n",
       "    <tr>\n",
       "      <th>2019-02-24 04:29:00</th>\n",
       "      <td>Port Samanthamouth</td>\n",
       "      <td>33.44</td>\n",
       "      <td>2.010000e+12</td>\n",
       "      <td>57</td>\n",
       "      <td>Urban</td>\n",
       "    </tr>\n",
       "    <tr>\n",
       "      <th>2019-02-10 23:22:00</th>\n",
       "      <td>Rodneyfort</td>\n",
       "      <td>23.44</td>\n",
       "      <td>5.150000e+12</td>\n",
       "      <td>34</td>\n",
       "      <td>Urban</td>\n",
       "    </tr>\n",
       "    <tr>\n",
       "      <th>2019-03-06 04:28:00</th>\n",
       "      <td>South Jack</td>\n",
       "      <td>34.58</td>\n",
       "      <td>3.910000e+12</td>\n",
       "      <td>46</td>\n",
       "      <td>Urban</td>\n",
       "    </tr>\n",
       "  </tbody>\n",
       "</table>\n",
       "</div>"
      ],
      "text/plain": [
       "                                   City   Fare       Ride Id  No. Drivers  \\\n",
       "Date                                                                        \n",
       "2019-01-14 10:14:00  Lake Jonathanshire  13.83  5.740000e+12            5   \n",
       "2019-03-04 18:24:00  South Michelleport  30.24  2.340000e+12           72   \n",
       "2019-02-24 04:29:00  Port Samanthamouth  33.44  2.010000e+12           57   \n",
       "2019-02-10 23:22:00          Rodneyfort  23.44  5.150000e+12           34   \n",
       "2019-03-06 04:28:00          South Jack  34.58  3.910000e+12           46   \n",
       "\n",
       "                    City Type  \n",
       "Date                           \n",
       "2019-01-14 10:14:00     Urban  \n",
       "2019-03-04 18:24:00     Urban  \n",
       "2019-02-24 04:29:00     Urban  \n",
       "2019-02-10 23:22:00     Urban  \n",
       "2019-03-06 04:28:00     Urban  "
      ]
     },
     "execution_count": 88,
     "metadata": {},
     "output_type": "execute_result"
    }
   ],
   "source": [
    "## set index as Date\n",
    "date_index_df = pyber_data_df.set_index([\"Date\"])\n",
    "date_index_df.head()"
   ]
  },
  {
   "cell_type": "code",
   "execution_count": 89,
   "metadata": {},
   "outputs": [
    {
     "data": {
      "text/html": [
       "<div>\n",
       "<style scoped>\n",
       "    .dataframe tbody tr th:only-of-type {\n",
       "        vertical-align: middle;\n",
       "    }\n",
       "\n",
       "    .dataframe tbody tr th {\n",
       "        vertical-align: top;\n",
       "    }\n",
       "\n",
       "    .dataframe thead th {\n",
       "        text-align: right;\n",
       "    }\n",
       "</style>\n",
       "<table border=\"1\" class=\"dataframe\">\n",
       "  <thead>\n",
       "    <tr style=\"text-align: right;\">\n",
       "      <th></th>\n",
       "      <th>City Type</th>\n",
       "      <th>Fare</th>\n",
       "    </tr>\n",
       "    <tr>\n",
       "      <th>Date</th>\n",
       "      <th></th>\n",
       "      <th></th>\n",
       "    </tr>\n",
       "  </thead>\n",
       "  <tbody>\n",
       "    <tr>\n",
       "      <th>2019-01-14 10:14:00</th>\n",
       "      <td>Urban</td>\n",
       "      <td>13.83</td>\n",
       "    </tr>\n",
       "    <tr>\n",
       "      <th>2019-03-04 18:24:00</th>\n",
       "      <td>Urban</td>\n",
       "      <td>30.24</td>\n",
       "    </tr>\n",
       "    <tr>\n",
       "      <th>2019-02-24 04:29:00</th>\n",
       "      <td>Urban</td>\n",
       "      <td>33.44</td>\n",
       "    </tr>\n",
       "    <tr>\n",
       "      <th>2019-02-10 23:22:00</th>\n",
       "      <td>Urban</td>\n",
       "      <td>23.44</td>\n",
       "    </tr>\n",
       "    <tr>\n",
       "      <th>2019-03-06 04:28:00</th>\n",
       "      <td>Urban</td>\n",
       "      <td>34.58</td>\n",
       "    </tr>\n",
       "  </tbody>\n",
       "</table>\n",
       "</div>"
      ],
      "text/plain": [
       "                    City Type   Fare\n",
       "Date                                \n",
       "2019-01-14 10:14:00     Urban  13.83\n",
       "2019-03-04 18:24:00     Urban  30.24\n",
       "2019-02-24 04:29:00     Urban  33.44\n",
       "2019-02-10 23:22:00     Urban  23.44\n",
       "2019-03-06 04:28:00     Urban  34.58"
      ]
     },
     "execution_count": 89,
     "metadata": {},
     "output_type": "execute_result"
    }
   ],
   "source": [
    "## new df with date, city type, fare\n",
    "fare_per_date_df = date_index_df[[\"City Type\",\"Fare\"]].copy()\n",
    "fare_per_date_df.head()"
   ]
  },
  {
   "cell_type": "code",
   "execution_count": 90,
   "metadata": {},
   "outputs": [
    {
     "name": "stdout",
     "output_type": "stream",
     "text": [
      "<class 'pandas.core.frame.DataFrame'>\n",
      "DatetimeIndex: 2375 entries, 2019-01-14 10:14:00 to 2019-04-25 10:20:00\n",
      "Data columns (total 2 columns):\n",
      " #   Column     Non-Null Count  Dtype  \n",
      "---  ------     --------------  -----  \n",
      " 0   City Type  2375 non-null   object \n",
      " 1   Fare       2375 non-null   float64\n",
      "dtypes: float64(1), object(1)\n",
      "memory usage: 55.7+ KB\n"
     ]
    }
   ],
   "source": [
    "## confirm index Date is datetime dtype\n",
    "fare_per_date_df.info()"
   ]
  },
  {
   "cell_type": "code",
   "execution_count": 91,
   "metadata": {},
   "outputs": [
    {
     "data": {
      "text/html": [
       "<div>\n",
       "<style scoped>\n",
       "    .dataframe tbody tr th:only-of-type {\n",
       "        vertical-align: middle;\n",
       "    }\n",
       "\n",
       "    .dataframe tbody tr th {\n",
       "        vertical-align: top;\n",
       "    }\n",
       "\n",
       "    .dataframe thead th {\n",
       "        text-align: right;\n",
       "    }\n",
       "</style>\n",
       "<table border=\"1\" class=\"dataframe\">\n",
       "  <thead>\n",
       "    <tr style=\"text-align: right;\">\n",
       "      <th></th>\n",
       "      <th></th>\n",
       "      <th>Fare</th>\n",
       "    </tr>\n",
       "    <tr>\n",
       "      <th>City Type</th>\n",
       "      <th>Date</th>\n",
       "      <th></th>\n",
       "    </tr>\n",
       "  </thead>\n",
       "  <tbody>\n",
       "    <tr>\n",
       "      <th rowspan=\"5\" valign=\"top\">Rural</th>\n",
       "      <th>2019-01-01 09:45:00</th>\n",
       "      <td>43.69</td>\n",
       "    </tr>\n",
       "    <tr>\n",
       "      <th>2019-01-02 11:18:00</th>\n",
       "      <td>52.12</td>\n",
       "    </tr>\n",
       "    <tr>\n",
       "      <th>2019-01-03 19:51:00</th>\n",
       "      <td>19.90</td>\n",
       "    </tr>\n",
       "    <tr>\n",
       "      <th>2019-01-04 03:31:00</th>\n",
       "      <td>24.88</td>\n",
       "    </tr>\n",
       "    <tr>\n",
       "      <th>2019-01-06 07:38:00</th>\n",
       "      <td>47.33</td>\n",
       "    </tr>\n",
       "    <tr>\n",
       "      <th>...</th>\n",
       "      <th>...</th>\n",
       "      <td>...</td>\n",
       "    </tr>\n",
       "    <tr>\n",
       "      <th rowspan=\"5\" valign=\"top\">Urban</th>\n",
       "      <th>2019-05-08 04:20:00</th>\n",
       "      <td>21.99</td>\n",
       "    </tr>\n",
       "    <tr>\n",
       "      <th>2019-05-08 04:39:00</th>\n",
       "      <td>18.45</td>\n",
       "    </tr>\n",
       "    <tr>\n",
       "      <th>2019-05-08 07:29:00</th>\n",
       "      <td>18.55</td>\n",
       "    </tr>\n",
       "    <tr>\n",
       "      <th>2019-05-08 11:38:00</th>\n",
       "      <td>19.77</td>\n",
       "    </tr>\n",
       "    <tr>\n",
       "      <th>2019-05-08 13:10:00</th>\n",
       "      <td>18.04</td>\n",
       "    </tr>\n",
       "  </tbody>\n",
       "</table>\n",
       "<p>2364 rows × 1 columns</p>\n",
       "</div>"
      ],
      "text/plain": [
       "                                Fare\n",
       "City Type Date                      \n",
       "Rural     2019-01-01 09:45:00  43.69\n",
       "          2019-01-02 11:18:00  52.12\n",
       "          2019-01-03 19:51:00  19.90\n",
       "          2019-01-04 03:31:00  24.88\n",
       "          2019-01-06 07:38:00  47.33\n",
       "...                              ...\n",
       "Urban     2019-05-08 04:20:00  21.99\n",
       "          2019-05-08 04:39:00  18.45\n",
       "          2019-05-08 07:29:00  18.55\n",
       "          2019-05-08 11:38:00  19.77\n",
       "          2019-05-08 13:10:00  18.04\n",
       "\n",
       "[2364 rows x 1 columns]"
      ]
     },
     "execution_count": 91,
     "metadata": {},
     "output_type": "execute_result"
    }
   ],
   "source": [
    "## sum of fares df grouped by city type & date\n",
    "sum_by_date_df = pd.DataFrame(fare_per_date_df.groupby([\"City Type\",\"Date\"]).sum()[\"Fare\"])\n",
    "sum_by_date_df"
   ]
  },
  {
   "cell_type": "code",
   "execution_count": 97,
   "metadata": {},
   "outputs": [
    {
     "data": {
      "text/html": [
       "<div>\n",
       "<style scoped>\n",
       "    .dataframe tbody tr th:only-of-type {\n",
       "        vertical-align: middle;\n",
       "    }\n",
       "\n",
       "    .dataframe tbody tr th {\n",
       "        vertical-align: top;\n",
       "    }\n",
       "\n",
       "    .dataframe thead th {\n",
       "        text-align: right;\n",
       "    }\n",
       "</style>\n",
       "<table border=\"1\" class=\"dataframe\">\n",
       "  <thead>\n",
       "    <tr style=\"text-align: right;\">\n",
       "      <th></th>\n",
       "      <th>City Type</th>\n",
       "      <th>Date</th>\n",
       "      <th>Fare</th>\n",
       "    </tr>\n",
       "  </thead>\n",
       "  <tbody>\n",
       "    <tr>\n",
       "      <th>0</th>\n",
       "      <td>Rural</td>\n",
       "      <td>2019-01-01 09:45:00</td>\n",
       "      <td>43.69</td>\n",
       "    </tr>\n",
       "    <tr>\n",
       "      <th>1</th>\n",
       "      <td>Rural</td>\n",
       "      <td>2019-01-02 11:18:00</td>\n",
       "      <td>52.12</td>\n",
       "    </tr>\n",
       "    <tr>\n",
       "      <th>2</th>\n",
       "      <td>Rural</td>\n",
       "      <td>2019-01-03 19:51:00</td>\n",
       "      <td>19.90</td>\n",
       "    </tr>\n",
       "    <tr>\n",
       "      <th>3</th>\n",
       "      <td>Rural</td>\n",
       "      <td>2019-01-04 03:31:00</td>\n",
       "      <td>24.88</td>\n",
       "    </tr>\n",
       "    <tr>\n",
       "      <th>4</th>\n",
       "      <td>Rural</td>\n",
       "      <td>2019-01-06 07:38:00</td>\n",
       "      <td>47.33</td>\n",
       "    </tr>\n",
       "  </tbody>\n",
       "</table>\n",
       "</div>"
      ],
      "text/plain": [
       "  City Type                Date   Fare\n",
       "0     Rural 2019-01-01 09:45:00  43.69\n",
       "1     Rural 2019-01-02 11:18:00  52.12\n",
       "2     Rural 2019-01-03 19:51:00  19.90\n",
       "3     Rural 2019-01-04 03:31:00  24.88\n",
       "4     Rural 2019-01-06 07:38:00  47.33"
      ]
     },
     "execution_count": 97,
     "metadata": {},
     "output_type": "execute_result"
    }
   ],
   "source": [
    "## reset the index\n",
    "sum_fares_df = sum_by_date_df.reset_index()\n",
    "sum_fares_df.head()"
   ]
  },
  {
   "cell_type": "code",
   "execution_count": 93,
   "metadata": {},
   "outputs": [
    {
     "data": {
      "text/html": [
       "<div>\n",
       "<style scoped>\n",
       "    .dataframe tbody tr th:only-of-type {\n",
       "        vertical-align: middle;\n",
       "    }\n",
       "\n",
       "    .dataframe tbody tr th {\n",
       "        vertical-align: top;\n",
       "    }\n",
       "\n",
       "    .dataframe thead th {\n",
       "        text-align: right;\n",
       "    }\n",
       "</style>\n",
       "<table border=\"1\" class=\"dataframe\">\n",
       "  <thead>\n",
       "    <tr style=\"text-align: right;\">\n",
       "      <th>City Type</th>\n",
       "      <th>Rural</th>\n",
       "      <th>Suburban</th>\n",
       "      <th>Urban</th>\n",
       "    </tr>\n",
       "    <tr>\n",
       "      <th>Date</th>\n",
       "      <th></th>\n",
       "      <th></th>\n",
       "      <th></th>\n",
       "    </tr>\n",
       "  </thead>\n",
       "  <tbody>\n",
       "    <tr>\n",
       "      <th>2019-01-01 00:08:00</th>\n",
       "      <td>NaN</td>\n",
       "      <td>NaN</td>\n",
       "      <td>37.91</td>\n",
       "    </tr>\n",
       "    <tr>\n",
       "      <th>2019-01-01 00:46:00</th>\n",
       "      <td>NaN</td>\n",
       "      <td>47.74</td>\n",
       "      <td>NaN</td>\n",
       "    </tr>\n",
       "    <tr>\n",
       "      <th>2019-01-01 02:07:00</th>\n",
       "      <td>NaN</td>\n",
       "      <td>24.07</td>\n",
       "      <td>NaN</td>\n",
       "    </tr>\n",
       "    <tr>\n",
       "      <th>2019-01-01 03:46:00</th>\n",
       "      <td>NaN</td>\n",
       "      <td>NaN</td>\n",
       "      <td>7.57</td>\n",
       "    </tr>\n",
       "    <tr>\n",
       "      <th>2019-01-01 05:23:00</th>\n",
       "      <td>NaN</td>\n",
       "      <td>NaN</td>\n",
       "      <td>10.75</td>\n",
       "    </tr>\n",
       "    <tr>\n",
       "      <th>2019-01-01 09:45:00</th>\n",
       "      <td>43.69</td>\n",
       "      <td>NaN</td>\n",
       "      <td>NaN</td>\n",
       "    </tr>\n",
       "    <tr>\n",
       "      <th>2019-01-01 12:32:00</th>\n",
       "      <td>NaN</td>\n",
       "      <td>25.56</td>\n",
       "      <td>NaN</td>\n",
       "    </tr>\n",
       "    <tr>\n",
       "      <th>2019-01-01 14:40:00</th>\n",
       "      <td>NaN</td>\n",
       "      <td>NaN</td>\n",
       "      <td>5.42</td>\n",
       "    </tr>\n",
       "    <tr>\n",
       "      <th>2019-01-01 14:42:00</th>\n",
       "      <td>NaN</td>\n",
       "      <td>NaN</td>\n",
       "      <td>12.31</td>\n",
       "    </tr>\n",
       "    <tr>\n",
       "      <th>2019-01-01 14:52:00</th>\n",
       "      <td>NaN</td>\n",
       "      <td>31.15</td>\n",
       "      <td>NaN</td>\n",
       "    </tr>\n",
       "  </tbody>\n",
       "</table>\n",
       "</div>"
      ],
      "text/plain": [
       "City Type            Rural  Suburban  Urban\n",
       "Date                                       \n",
       "2019-01-01 00:08:00    NaN       NaN  37.91\n",
       "2019-01-01 00:46:00    NaN     47.74    NaN\n",
       "2019-01-01 02:07:00    NaN     24.07    NaN\n",
       "2019-01-01 03:46:00    NaN       NaN   7.57\n",
       "2019-01-01 05:23:00    NaN       NaN  10.75\n",
       "2019-01-01 09:45:00  43.69       NaN    NaN\n",
       "2019-01-01 12:32:00    NaN     25.56    NaN\n",
       "2019-01-01 14:40:00    NaN       NaN   5.42\n",
       "2019-01-01 14:42:00    NaN       NaN  12.31\n",
       "2019-01-01 14:52:00    NaN     31.15    NaN"
      ]
     },
     "execution_count": 93,
     "metadata": {},
     "output_type": "execute_result"
    }
   ],
   "source": [
    "# make pivot table df\n",
    "pivot_table_df = sum_fares_df.pivot(index=\"Date\", columns=\"City Type\", values=\"Fare\")\n",
    "pivot_table_df.head(10)"
   ]
  },
  {
   "cell_type": "code",
   "execution_count": 98,
   "metadata": {},
   "outputs": [
    {
     "data": {
      "text/html": [
       "<div>\n",
       "<style scoped>\n",
       "    .dataframe tbody tr th:only-of-type {\n",
       "        vertical-align: middle;\n",
       "    }\n",
       "\n",
       "    .dataframe tbody tr th {\n",
       "        vertical-align: top;\n",
       "    }\n",
       "\n",
       "    .dataframe thead th {\n",
       "        text-align: right;\n",
       "    }\n",
       "</style>\n",
       "<table border=\"1\" class=\"dataframe\">\n",
       "  <thead>\n",
       "    <tr style=\"text-align: right;\">\n",
       "      <th>City Type</th>\n",
       "      <th>Rural</th>\n",
       "      <th>Suburban</th>\n",
       "      <th>Urban</th>\n",
       "    </tr>\n",
       "    <tr>\n",
       "      <th>Date</th>\n",
       "      <th></th>\n",
       "      <th></th>\n",
       "      <th></th>\n",
       "    </tr>\n",
       "  </thead>\n",
       "  <tbody>\n",
       "    <tr>\n",
       "      <th>2019-01-01 00:08:00</th>\n",
       "      <td>NaN</td>\n",
       "      <td>NaN</td>\n",
       "      <td>37.91</td>\n",
       "    </tr>\n",
       "    <tr>\n",
       "      <th>2019-01-01 00:46:00</th>\n",
       "      <td>NaN</td>\n",
       "      <td>47.74</td>\n",
       "      <td>NaN</td>\n",
       "    </tr>\n",
       "    <tr>\n",
       "      <th>2019-01-01 02:07:00</th>\n",
       "      <td>NaN</td>\n",
       "      <td>24.07</td>\n",
       "      <td>NaN</td>\n",
       "    </tr>\n",
       "    <tr>\n",
       "      <th>2019-01-01 03:46:00</th>\n",
       "      <td>NaN</td>\n",
       "      <td>NaN</td>\n",
       "      <td>7.57</td>\n",
       "    </tr>\n",
       "    <tr>\n",
       "      <th>2019-01-01 05:23:00</th>\n",
       "      <td>NaN</td>\n",
       "      <td>NaN</td>\n",
       "      <td>10.75</td>\n",
       "    </tr>\n",
       "  </tbody>\n",
       "</table>\n",
       "</div>"
      ],
      "text/plain": [
       "City Type            Rural  Suburban  Urban\n",
       "Date                                       \n",
       "2019-01-01 00:08:00    NaN       NaN  37.91\n",
       "2019-01-01 00:46:00    NaN     47.74    NaN\n",
       "2019-01-01 02:07:00    NaN     24.07    NaN\n",
       "2019-01-01 03:46:00    NaN       NaN   7.57\n",
       "2019-01-01 05:23:00    NaN       NaN  10.75"
      ]
     },
     "execution_count": 98,
     "metadata": {},
     "output_type": "execute_result"
    }
   ],
   "source": [
    "# new df on dates '2019-01-01':'2019-04-28'\n",
    "jan_april_df = pivot_table_df.loc['2019-01-01':'2019-04-28']\n",
    "jan_april_df.head()"
   ]
  },
  {
   "cell_type": "code",
   "execution_count": 99,
   "metadata": {},
   "outputs": [
    {
     "data": {
      "text/html": [
       "<div>\n",
       "<style scoped>\n",
       "    .dataframe tbody tr th:only-of-type {\n",
       "        vertical-align: middle;\n",
       "    }\n",
       "\n",
       "    .dataframe tbody tr th {\n",
       "        vertical-align: top;\n",
       "    }\n",
       "\n",
       "    .dataframe thead th {\n",
       "        text-align: right;\n",
       "    }\n",
       "</style>\n",
       "<table border=\"1\" class=\"dataframe\">\n",
       "  <thead>\n",
       "    <tr style=\"text-align: right;\">\n",
       "      <th>City Type</th>\n",
       "      <th>Rural</th>\n",
       "      <th>Suburban</th>\n",
       "      <th>Urban</th>\n",
       "    </tr>\n",
       "    <tr>\n",
       "      <th>Date</th>\n",
       "      <th></th>\n",
       "      <th></th>\n",
       "      <th></th>\n",
       "    </tr>\n",
       "  </thead>\n",
       "  <tbody>\n",
       "    <tr>\n",
       "      <th>2019-01-01</th>\n",
       "      <td>187.92</td>\n",
       "      <td>876.61</td>\n",
       "      <td>1879.70</td>\n",
       "    </tr>\n",
       "    <tr>\n",
       "      <th>2019-01-08</th>\n",
       "      <td>139.80</td>\n",
       "      <td>1080.40</td>\n",
       "      <td>2193.36</td>\n",
       "    </tr>\n",
       "    <tr>\n",
       "      <th>2019-01-15</th>\n",
       "      <td>233.85</td>\n",
       "      <td>1163.93</td>\n",
       "      <td>2105.90</td>\n",
       "    </tr>\n",
       "    <tr>\n",
       "      <th>2019-01-22</th>\n",
       "      <td>210.94</td>\n",
       "      <td>1285.13</td>\n",
       "      <td>1846.98</td>\n",
       "    </tr>\n",
       "    <tr>\n",
       "      <th>2019-01-29</th>\n",
       "      <td>361.50</td>\n",
       "      <td>1079.58</td>\n",
       "      <td>2085.77</td>\n",
       "    </tr>\n",
       "  </tbody>\n",
       "</table>\n",
       "</div>"
      ],
      "text/plain": [
       "City Type    Rural  Suburban    Urban\n",
       "Date                                 \n",
       "2019-01-01  187.92    876.61  1879.70\n",
       "2019-01-08  139.80   1080.40  2193.36\n",
       "2019-01-15  233.85   1163.93  2105.90\n",
       "2019-01-22  210.94   1285.13  1846.98\n",
       "2019-01-29  361.50   1079.58  2085.77"
      ]
     },
     "execution_count": 99,
     "metadata": {},
     "output_type": "execute_result"
    }
   ],
   "source": [
    "# resample into weekly bins with each week summed\n",
    "plot_df = jan_april_df.resample(\"7D\").sum()\n",
    "plot_df.head()"
   ]
  },
  {
   "cell_type": "code",
   "execution_count": 100,
   "metadata": {
    "scrolled": true
   },
   "outputs": [
    {
     "data": {
      "image/png": "[encoded data removed]",
      "text/plain": [
       "<Figure size 720x288 with 1 Axes>"
      ]
     },
     "metadata": {},
     "output_type": "display_data"
    }
   ],
   "source": [
    "# plot df using fiveThirtyEight style\n",
    "color_scheme = [\"skyblue\", \"coral\", \"gold\",]\n",
    "\n",
    "plt.style.use('fivethirtyeight')\n",
    "\n",
    "ax = plot_df.plot(figsize=(10,4), color=color_scheme)\n",
    "\n",
    "ax.set_title(\"Total Fare by City Type\")\n",
    "ax.set_ylabel(\"Fare ($USD)\")\n",
    "ax.set_yticks(np.arange(0, 3500, step=500))\n",
    "\n",
    "# # Save the figure\n",
    "plt.savefig(\"Analysis/Fig8.png\", bbox_inches=\"tight\")\n",
    "\n",
    "plt.show()"
   ]
  },
  {
   "cell_type": "code",
   "execution_count": null,
   "metadata": {},
   "outputs": [],
   "source": []
  }
 ],
 "metadata": {
  "kernelspec": {
   "display_name": "PythonData",
   "language": "python",
   "name": "pythondata"
  },
  "language_info": {
   "codemirror_mode": {
    "name": "ipython",
    "version": 3
   },
   "file_extension": ".py",
   "mimetype": "text/x-python",
   "name": "python",
   "nbconvert_exporter": "python",
   "pygments_lexer": "ipython3",
   "version": "3.7.6"
  }
 },
 "nbformat": 4,
 "nbformat_minor": 4
}
